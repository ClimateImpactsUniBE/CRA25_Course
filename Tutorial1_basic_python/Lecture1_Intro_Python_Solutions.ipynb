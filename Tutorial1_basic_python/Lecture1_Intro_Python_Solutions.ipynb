{
 "cells": [
  {
   "cell_type": "markdown",
   "metadata": {},
   "source": [
    "# Exercises"
   ]
  },
  {
   "cell_type": "markdown",
   "metadata": {},
   "source": [
    "You get a Series of Temperature Measurements from the MeteoSwiss Weather Station in Zollikofen. The data is for one day from 00:00 to 23:50 with a measurement every 10 minutes."
   ]
  },
  {
   "cell_type": "code",
   "execution_count": null,
   "metadata": {},
   "outputs": [],
   "source": [
    "# This code snipped will read the data from the csv file and give you a list. You don't need to understand everything\n",
    "# that is happening yet.\n",
    "\n",
    "import csv #we can use the csv module to read a csv file\n",
    "# first we have to open the file\n",
    "with open(\"C:/your/path/to/file/temperatures_zollikofen.csv\", newline='') as file:\n",
    "    reader = csv.reader(file) # then we use a reader object to read the content of the file\n",
    "    temperatures = next(reader) # Now we put the content of the reader into a list\n",
    "temperatures = [float(x) for x in temperatures] # The values are read as strings. We have to convert them to float first\n",
    "# Here we used \"list comprehension\" this is a handy, python specific way to apply functions to a list\n",
    "print(temperatures)"
   ]
  },
  {
   "cell_type": "markdown",
   "metadata": {},
   "source": [
    "So first let's check if we have all the measurements we need to investigate the whole day. With 24h and 6 measurements per hour we would expect 144 values. How many are there in the list we've read from?"
   ]
  },
  {
   "cell_type": "code",
   "execution_count": null,
   "metadata": {},
   "outputs": [],
   "source": [
    "len(temperatures)"
   ]
  },
  {
   "cell_type": "markdown",
   "metadata": {},
   "source": [
    "There is a value missing! It's infact the first value for 00:00 and it would be 2.949576240750525°C. Can you put it back into the list at the correct location?"
   ]
  },
  {
   "cell_type": "code",
   "execution_count": null,
   "metadata": {},
   "outputs": [],
   "source": [
    "temperatures.insert(0,2.949576240750525)\n",
    "len(temperatures)"
   ]
  },
  {
   "cell_type": "markdown",
   "metadata": {},
   "source": [
    "Now let's get a first impression of the values. Can you figure out what the minimum and maximum temperatures of that day were?"
   ]
  },
  {
   "cell_type": "code",
   "execution_count": null,
   "metadata": {},
   "outputs": [],
   "source": [
    "max(temperatures)\n",
    "min(temperatures)"
   ]
  },
  {
   "cell_type": "markdown",
   "metadata": {},
   "source": [
    "Hmm.. our values look a bit strange. The minimum and maximum temperatures are quite close to each other and the numbers themselves look odd. For some reason someone stored the square roots of all the numbers! Before we can continue we have to fix that. Can you convert the numbers back to their original values?"
   ]
  },
  {
   "cell_type": "code",
   "execution_count": null,
   "metadata": {},
   "outputs": [],
   "source": [
    "#Solution using a for loop\n",
    "original_temperatures = []\n",
    "for value in temperatures:\n",
    "    original_temperatures.append(value**2)\n",
    "    \n",
    "#alternative solution using list comprehension:\n",
    "original_temperatures = [value**2 for value in temperatures] # this version is prefered. It's considered \"more pythonic\"\n",
    "\n",
    "original_temperatures"
   ]
  },
  {
   "cell_type": "markdown",
   "metadata": {},
   "source": [
    "The values still look a bit weird. We do not need such high precision. Can you round them to only 1 value after the decimal point?"
   ]
  },
  {
   "cell_type": "code",
   "execution_count": null,
   "metadata": {},
   "outputs": [],
   "source": [
    "#Solution using a for loop\n",
    "rounded_temperatures = []\n",
    "for value in original_temperatures:\n",
    "    rounded_temperatures.append(round(value,1))\n",
    "    \n",
    "#alternative solution using list comprehension:\n",
    "rounded_temperatures = [round(value,1) for value in original_temperatures]\n",
    "\n",
    "rounded_temperatures"
   ]
  },
  {
   "cell_type": "markdown",
   "metadata": {},
   "source": [
    "Now that we have the original measurements we can look at the data again. We are actually interested in the fourth highest temperature of the day. What is it?"
   ]
  },
  {
   "cell_type": "code",
   "execution_count": null,
   "metadata": {},
   "outputs": [],
   "source": [
    "sorted_temperature = sorted(rounded_temperatures, reverse = True)\n",
    "sorted_temperature[3]\n",
    "\n",
    "# You could also use the following line. But you have to be careful. This function works \"in-place\"\n",
    "# which means that it changes rounded_temperatures itself. This can be a problem, for example if you think about the\n",
    "# next exercise.\n",
    "\n",
    "# rounded_temperatures.sort(reverse = True)[3]"
   ]
  },
  {
   "cell_type": "markdown",
   "metadata": {},
   "source": [
    "10-minute temporal resolution is quite high. Hourly averages would be enough to continue working. Can you calculate a list containing these 24 hourly averages?"
   ]
  },
  {
   "cell_type": "code",
   "execution_count": null,
   "metadata": {},
   "outputs": [],
   "source": [
    "# pure python implementation with all the things you have seen today\n",
    "averages = []\n",
    "window_size = 6\n",
    "i = 0\n",
    "while i < len(rounded_temperatures) - window_size + 1:\n",
    "    window = rounded_temperatures[i : i + window_size]\n",
    "    window_average = sum(window) / window_size\n",
    "    averages.append(window_average)\n",
    "    i += window_size\n",
    "    \n",
    "print(averages)"
   ]
  }
 ],
 "metadata": {
  "kernelspec": {
   "display_name": "cra_env",
   "language": "python",
   "name": "python3"
  },
  "language_info": {
   "codemirror_mode": {
    "name": "ipython",
    "version": 3
   },
   "file_extension": ".py",
   "mimetype": "text/x-python",
   "name": "python",
   "nbconvert_exporter": "python",
   "pygments_lexer": "ipython3",
   "version": "3.12.9"
  },
  "toc": {
   "base_numbering": 1,
   "nav_menu": {},
   "number_sections": true,
   "sideBar": true,
   "skip_h1_title": false,
   "title_cell": "Table of Contents",
   "title_sidebar": "Contents",
   "toc_cell": true,
   "toc_position": {
    "height": "calc(100% - 180px)",
    "left": "10px",
    "top": "150px",
    "width": "276.4px"
   },
   "toc_section_display": true,
   "toc_window_display": true
  }
 },
 "nbformat": 4,
 "nbformat_minor": 4
}
