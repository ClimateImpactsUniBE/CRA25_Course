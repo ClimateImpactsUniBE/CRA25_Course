{
 "cells": [
  {
   "cell_type": "markdown",
   "metadata": {},
   "source": [
    "*This Notebook has been developed by Mubashshir Ali and later modified by Alessio Ciullo and Martin Aregger.*"
   ]
  },
  {
   "cell_type": "markdown",
   "metadata": {
    "tags": []
   },
   "source": [
    "# Using Jupyter Notebook"
   ]
  },
  {
   "cell_type": "markdown",
   "metadata": {},
   "source": [
    "Three types of cells:\n",
    "1. Markdown -> text\n",
    "2. Raw      -> code which won't be executed\n",
    "3. Code     -> code which will be exceuted"
   ]
  },
  {
   "cell_type": "code",
   "execution_count": null,
   "metadata": {
    "tags": []
   },
   "outputs": [],
   "source": [
    "print(\"This is a code cell!\")"
   ]
  },
  {
   "cell_type": "raw",
   "metadata": {},
   "source": [
    "print(\"This is a raw cell!\")"
   ]
  },
  {
   "cell_type": "markdown",
   "metadata": {
    "tags": []
   },
   "source": [
    "This is a text cell. It uses Markdown syntax (https://www.markdownguide.org/basic-syntax/).\n",
    "\n",
    "You can for example make text **bold** text or Headings:\n",
    "\n",
    "## Heading Level 2\n",
    "\n",
    "- Headings also allow you to fold collapse cells.\n",
    "- In the sidebar you can get the index of your notebook."
   ]
  },
  {
   "cell_type": "markdown",
   "metadata": {
    "tags": []
   },
   "source": [
    "#### Executing a cell\n",
    "1. Select it by clicking on it\n",
    "2. Execute it using one of the following commands:\n",
    "    - Ctrl + Enter: run selected cells\n",
    "    - Shift + Enter: run current cell, select below\n",
    "    - Alt + Enter: run current cell, insert below\n",
    "    \n",
    "Mac users use:\n",
    "- Ctrl: command key ⌘\n",
    "- Shift: Shift ⇧\n",
    "- Alt: option ⌥"
   ]
  },
  {
   "cell_type": "code",
   "execution_count": null,
   "metadata": {},
   "outputs": [],
   "source": [
    "# Try to execute the code in this cell\n",
    "print(\"Hello World\")"
   ]
  },
  {
   "cell_type": "markdown",
   "metadata": {
    "tags": []
   },
   "source": [
    "#### Modes\n",
    "\n",
    "There are 2 Modes in the Jupyter Notebook: **Command Mode** and **Edit Mode**.\n",
    "\n",
    "The commands for executing cells, shown above, work in both modes. \n",
    "Additionally there are also:\n",
    "- Ctrl + s: To save your Notebook\n",
    "- Ctrl + Shift + c to open the Command Palette\n",
    "\n",
    "The Command Pallette allows you to search all user actions within Jupyter Lab."
   ]
  },
  {
   "cell_type": "markdown",
   "metadata": {},
   "source": [
    "#### Command Mode Shortcuts\n",
    "A selection of useful shortcuts. The full list can be found here https://defkey.com/jupyter-notebook-shortcuts?orientation=portrait&filter=false&cellAlternateColor=%23d6ffef&showPageNumber=true&showPageNumber=false&pdf=True\n",
    "\n",
    "**Changing Cell Type**\n",
    "* Markdown *M*\n",
    "* Raw *R*\n",
    "* Code *Y*\n",
    "\n",
    "**Manipulate Cells**\n",
    "\n",
    "* Cut cell *X*\n",
    "* Copy cell *C*\n",
    "* Paste cell *V*\n",
    "* Merge Cells *Shift + M*\n",
    "* Insert cell below *B*\n",
    "* Insert cell above *A*\n",
    "* Delete cell *D pressed twice*\n",
    "* Undo *Z*\n",
    "* Interrupt kernel *I pressed twice*\n",
    "\n",
    "#### Edit Mode Shortcuts\n",
    "\n",
    "* Code completion or indent *Tab*\n",
    "* Tooltip *Shift+Tab*\n"
   ]
  },
  {
   "cell_type": "code",
   "execution_count": null,
   "metadata": {},
   "outputs": [],
   "source": [
    "print(\"Hello World!\")   "
   ]
  },
  {
   "cell_type": "markdown",
   "metadata": {
    "tags": []
   },
   "source": [
    "## Autocomplete"
   ]
  },
  {
   "cell_type": "code",
   "execution_count": null,
   "metadata": {},
   "outputs": [],
   "source": [
    "# Autocomplete: Start typing and then Shift\n",
    "\n",
    "a_very_long_variable_name_too_annoying_to_type_too_often = \"Hello!\""
   ]
  },
  {
   "cell_type": "markdown",
   "metadata": {},
   "source": [
    "# Python Programming"
   ]
  },
  {
   "cell_type": "markdown",
   "metadata": {},
   "source": [
    "## Disclaimer"
   ]
  },
  {
   "cell_type": "markdown",
   "metadata": {},
   "source": [
    "This notebook will introduce you to python basic data types. \n",
    "<br>\n",
    "Overall, for more in depth information, you may want to consult:\n",
    "* the endless resources on the internet (see e.g. https://stackoverflow.com/ or https://gis.stackexchange.com/) whenever you have specific problems. Typically, someone else had the same problem in the past.\n",
    "* the official documentation and tutorials of packages whenever you want to learn every detail of a specific package.\n",
    "* [this free ebook](https://jakevdp.github.io/PythonDataScienceHandbook/) (recommended if you want to get started with python in a more structured manner)."
   ]
  },
  {
   "cell_type": "markdown",
   "metadata": {},
   "source": [
    "## Standard Data Types #"
   ]
  },
  {
   "cell_type": "markdown",
   "metadata": {},
   "source": [
    "Python has a number of standard data-types:\n",
    "\n",
    "|||\n",
    "|---|---|\n",
    "| Numeric| int, float, complex|\n",
    "| Strings|str, char|\n",
    "| Sequence Types| list, tuple, range|\n",
    "| Set Types| set, frozenset|\n",
    "| Mapping Types| dict|\n",
    "| Boolean|bool|\n",
    "| Binary Types| bytes, bytearray, memoryview|\n",
    "\n",
    "Some of them we will now discuss below."
   ]
  },
  {
   "cell_type": "markdown",
   "metadata": {},
   "source": [
    "## Numeric Data Types"
   ]
  },
  {
   "cell_type": "markdown",
   "metadata": {},
   "source": [
    "Python supports three different numerical types:\n",
    "\n",
    "* int (signed integers)\n",
    "* float (floating point real values)\n",
    "* complex numbers (not of interest now)"
   ]
  },
  {
   "cell_type": "code",
   "execution_count": null,
   "metadata": {},
   "outputs": [],
   "source": [
    "# This is a comment in Python -> use #\n",
    "\n",
    "a = 10         # integer (Whole Number)\n",
    "b = 100.0      # float (Rational Number)\n",
    "\n",
    "type(b) # use the type() function to see what type your variable has"
   ]
  },
  {
   "cell_type": "markdown",
   "metadata": {},
   "source": [
    "You can do simple algebraic operations with integers and floats"
   ]
  },
  {
   "cell_type": "code",
   "execution_count": null,
   "metadata": {},
   "outputs": [],
   "source": [
    "d = a + b\n",
    "print(d) #The print Function lets you output variables to the command line"
   ]
  },
  {
   "cell_type": "code",
   "execution_count": null,
   "metadata": {},
   "outputs": [],
   "source": [
    "e=b*2.5\n",
    "e  # In Jupyter there is not always a need for a print statement -> it will show the content of the last line"
   ]
  },
  {
   "cell_type": "markdown",
   "metadata": {},
   "source": [
    "### Arithmetic Operators"
   ]
  },
  {
   "cell_type": "markdown",
   "metadata": {},
   "source": [
    "|||\n",
    "|---|---|\n",
    "| Addition          |   +  | \n",
    "| Subtraction       |   -  | \n",
    "| Multiplication    |   *  | \n",
    "| Division          |   /  | \n",
    "| Modulus           |   %  | \n",
    "| Floor division    |   // | \n",
    "| exponent          |   ** |"
   ]
  },
  {
   "cell_type": "code",
   "execution_count": null,
   "metadata": {},
   "outputs": [],
   "source": [
    "# Be careful with exponents! It's ** not ^ in Python\n",
    "\n",
    "2^7 # bitwise XOR operation"
   ]
  },
  {
   "cell_type": "code",
   "execution_count": null,
   "metadata": {},
   "outputs": [],
   "source": [
    "2**7"
   ]
  },
  {
   "cell_type": "markdown",
   "metadata": {},
   "source": [
    "## Strings"
   ]
  },
  {
   "cell_type": "markdown",
   "metadata": {},
   "source": [
    "Strings are represented as set of characters inside quotation marks."
   ]
  },
  {
   "cell_type": "code",
   "execution_count": null,
   "metadata": {},
   "outputs": [],
   "source": [
    "var = 'Climate Risk Assessment' #you can use \" and ' interchangeably -> \"Climate Risk Assesment\" is equal to 'Climate Risk Assessment'\n",
    "var"
   ]
  },
  {
   "cell_type": "markdown",
   "metadata": {},
   "source": [
    "We can perform various operations with strings:"
   ]
  },
  {
   "cell_type": "code",
   "execution_count": null,
   "metadata": {},
   "outputs": [],
   "source": [
    "var*3"
   ]
  },
  {
   "cell_type": "code",
   "execution_count": null,
   "metadata": {},
   "outputs": [],
   "source": [
    "var+var"
   ]
  },
  {
   "cell_type": "markdown",
   "metadata": {},
   "source": [
    "Do not subtract / divide though, it will crash."
   ]
  },
  {
   "cell_type": "code",
   "execution_count": null,
   "metadata": {},
   "outputs": [],
   "source": [
    "var/var"
   ]
  },
  {
   "cell_type": "markdown",
   "metadata": {
    "tags": []
   },
   "source": [
    "### Selecting parts of a string"
   ]
  },
  {
   "cell_type": "markdown",
   "metadata": {},
   "source": [
    "In Python we use \"indexes\" to select parts of a string (same goes for lists and other collections as you will see later on)."
   ]
  },
  {
   "cell_type": "code",
   "execution_count": null,
   "metadata": {},
   "outputs": [],
   "source": [
    "print(var)\n",
    "var[3]"
   ]
  },
  {
   "cell_type": "markdown",
   "metadata": {},
   "source": [
    "Note that m is the fourth letter of our string and not the third. This is because python starts indexing at 0.\n",
    "\n",
    "There is also the option to use negative indexes which will start from the end of the string. -1 is the index of the last letter."
   ]
  },
  {
   "cell_type": "code",
   "execution_count": null,
   "metadata": {},
   "outputs": [],
   "source": [
    "var[-2]"
   ]
  },
  {
   "cell_type": "markdown",
   "metadata": {},
   "source": [
    "We can also \"slice\" strings - just specify starting and ending positions in square brakets delimited by a colon [init_pos : end_pos]"
   ]
  },
  {
   "cell_type": "code",
   "execution_count": null,
   "metadata": {
    "tags": []
   },
   "outputs": [],
   "source": [
    "var[3:5] "
   ]
  },
  {
   "cell_type": "markdown",
   "metadata": {},
   "source": [
    "**Important:** Note that our output only is 2 characters long, even though 3:5 is 3 indices. Python will not include the last index while slicing!"
   ]
  },
  {
   "cell_type": "code",
   "execution_count": null,
   "metadata": {},
   "outputs": [],
   "source": [
    "var[3:-2]"
   ]
  },
  {
   "cell_type": "markdown",
   "metadata": {},
   "source": [
    "### Some functions to manipulate strings"
   ]
  },
  {
   "cell_type": "markdown",
   "metadata": {},
   "source": [
    "Python has a number of standard functions for string manipulations.\n",
    "Here are some examples:"
   ]
  },
  {
   "cell_type": "markdown",
   "metadata": {},
   "source": [
    "Length of the string (number of characters). *General note: the lengths command applies to literally all data types, not only strings*"
   ]
  },
  {
   "cell_type": "code",
   "execution_count": null,
   "metadata": {},
   "outputs": [],
   "source": [
    "len(var)"
   ]
  },
  {
   "cell_type": "markdown",
   "metadata": {},
   "source": [
    "Remove blank spaces at the string edges"
   ]
  },
  {
   "cell_type": "code",
   "execution_count": null,
   "metadata": {},
   "outputs": [],
   "source": [
    "var = \"  climate Risk Assessment  \"\n",
    "var"
   ]
  },
  {
   "cell_type": "code",
   "execution_count": null,
   "metadata": {},
   "outputs": [],
   "source": [
    "var.strip()"
   ]
  },
  {
   "cell_type": "markdown",
   "metadata": {},
   "source": [
    "* Various operations:"
   ]
  },
  {
   "cell_type": "code",
   "execution_count": null,
   "metadata": {},
   "outputs": [],
   "source": [
    "print(var.upper()) # all upper case letters\n",
    "print(var.lower()) # all lower case letters\n",
    "print(var.capitalize()) # capitalize first letter"
   ]
  },
  {
   "cell_type": "markdown",
   "metadata": {},
   "source": [
    "In *capitalize()* not much happened because the first letter is a blank space. We could combine commands; after all, the outputs are all strings, thus the same functions apply:"
   ]
  },
  {
   "cell_type": "code",
   "execution_count": null,
   "metadata": {},
   "outputs": [],
   "source": [
    "var.strip().capitalize()"
   ]
  },
  {
   "cell_type": "markdown",
   "metadata": {},
   "source": [
    "Splitting - the result is actually a list (see below)"
   ]
  },
  {
   "cell_type": "code",
   "execution_count": null,
   "metadata": {},
   "outputs": [],
   "source": [
    "var.split(' ') # here the separator is a whitespace"
   ]
  },
  {
   "cell_type": "markdown",
   "metadata": {},
   "source": [
    "Splitting is very important. As an example, assuming you have a date written as:"
   ]
  },
  {
   "cell_type": "code",
   "execution_count": null,
   "metadata": {},
   "outputs": [],
   "source": [
    "date = '04.12.2005'"
   ]
  },
  {
   "cell_type": "markdown",
   "metadata": {},
   "source": [
    "and that we want to automate a process that tells you what month it is; you could write:"
   ]
  },
  {
   "cell_type": "code",
   "execution_count": null,
   "metadata": {},
   "outputs": [],
   "source": [
    "year = date.split('.')[-1] #index -1 is the last position\n",
    "year"
   ]
  },
  {
   "cell_type": "markdown",
   "metadata": {},
   "source": [
    "which means, split *date* based on dots, and take the last element resulting from such splitting."
   ]
  },
  {
   "cell_type": "markdown",
   "metadata": {},
   "source": [
    "Putting Variables into a String (for example if you want to show a result automatically):"
   ]
  },
  {
   "cell_type": "code",
   "execution_count": null,
   "metadata": {},
   "outputs": [],
   "source": [
    "a = 42\n",
    "b = \"Life, the Universe, and Everything\"\n",
    "\n",
    "output_string = f\"The answer to the ultimate question of {b} is {a}.\"\n",
    "print(output_string)"
   ]
  },
  {
   "cell_type": "markdown",
   "metadata": {},
   "source": [
    "Note the f before the string in the definition of output_string. This is called an f-string (or formatted string). It allows you to print variables inside a string using {}. If you remove the f, the {a} would be printed instead of its value (42)."
   ]
  },
  {
   "cell_type": "markdown",
   "metadata": {},
   "source": [
    "## Lists"
   ]
  },
  {
   "cell_type": "markdown",
   "metadata": {},
   "source": [
    "Lists are groups of items separated by commas and enclosed with square brackets [ ]. Lists are the most frequent data type in python. The items inside the list can be anything from a number to a string. A list can also be accessed in the same way as we saw above with strings using the slice operator."
   ]
  },
  {
   "cell_type": "code",
   "execution_count": null,
   "metadata": {},
   "outputs": [],
   "source": [
    "clothes = ['shirt', 't-shirt', 'jeans', 'trousers', 'coat']"
   ]
  },
  {
   "cell_type": "markdown",
   "metadata": {},
   "source": [
    "### Indexing and Slicing"
   ]
  },
  {
   "cell_type": "markdown",
   "metadata": {},
   "source": [
    "**Same** syntax as used for strings before "
   ]
  },
  {
   "cell_type": "markdown",
   "metadata": {},
   "source": [
    "*  Indexing"
   ]
  },
  {
   "cell_type": "code",
   "execution_count": null,
   "metadata": {},
   "outputs": [],
   "source": [
    "clothes[1]"
   ]
  },
  {
   "cell_type": "markdown",
   "metadata": {},
   "source": [
    "* Slicing"
   ]
  },
  {
   "cell_type": "code",
   "execution_count": null,
   "metadata": {},
   "outputs": [],
   "source": [
    "clothes[:3] # note: if you start from the first element, you can omit to write zero"
   ]
  },
  {
   "cell_type": "markdown",
   "metadata": {},
   "source": [
    "You can have heteregenous lists, including numbers and strings together. In fact, literally anything can be a member of a list, even another list."
   ]
  },
  {
   "cell_type": "code",
   "execution_count": null,
   "metadata": {},
   "outputs": [],
   "source": [
    "climate = [2.5, 'seaice', 'glaciers', 1.5]\n",
    "climate"
   ]
  },
  {
   "cell_type": "markdown",
   "metadata": {},
   "source": [
    "### Appending and extending lists"
   ]
  },
  {
   "cell_type": "markdown",
   "metadata": {},
   "source": [
    "These are two very common operations.\n",
    "* Appending is about adding a list to another list as a **a single list member** (namely the last one). In this way you end up with a list inside a list;\n",
    "* Extending is about adding all elements of a list to another list all as **seperate list members**;"
   ]
  },
  {
   "cell_type": "markdown",
   "metadata": {},
   "source": [
    "**Append** clothes to climate"
   ]
  },
  {
   "cell_type": "code",
   "execution_count": null,
   "metadata": {},
   "outputs": [],
   "source": [
    "climate.append(clothes) \n",
    "climate"
   ]
  },
  {
   "cell_type": "markdown",
   "metadata": {},
   "source": [
    "the last element is the entire list of clothes"
   ]
  },
  {
   "cell_type": "code",
   "execution_count": null,
   "metadata": {},
   "outputs": [],
   "source": [
    "climate[-1]"
   ]
  },
  {
   "cell_type": "markdown",
   "metadata": {},
   "source": [
    "**Extend** climate with clothes members"
   ]
  },
  {
   "cell_type": "code",
   "execution_count": null,
   "metadata": {},
   "outputs": [],
   "source": [
    "climate = [2.5, 'seaice', 'glaciers', 1.5] # just re-initialize the list, to avoid confusion\n",
    "\n",
    "climate.extend(clothes)\n",
    "climate"
   ]
  },
  {
   "cell_type": "markdown",
   "metadata": {},
   "source": [
    "The last element is just the last element of clothes"
   ]
  },
  {
   "cell_type": "code",
   "execution_count": null,
   "metadata": {},
   "outputs": [],
   "source": [
    "climate[-1] "
   ]
  },
  {
   "cell_type": "markdown",
   "metadata": {},
   "source": [
    "You can also extend lists by simply adding (`+`) them"
   ]
  },
  {
   "cell_type": "code",
   "execution_count": null,
   "metadata": {},
   "outputs": [],
   "source": [
    "climate = [2.5, 'seaice','seaice', 'glaciers', 1.5] # just re-initialize the list, to avoid confusion\n",
    "\n",
    "climate + clothes"
   ]
  },
  {
   "cell_type": "markdown",
   "metadata": {},
   "source": [
    "Some other useful operations with lists are:"
   ]
  },
  {
   "cell_type": "code",
   "execution_count": null,
   "metadata": {},
   "outputs": [],
   "source": [
    "climate.insert(2,\"new_value\")\n",
    "print(climate)"
   ]
  },
  {
   "cell_type": "code",
   "execution_count": null,
   "metadata": {},
   "outputs": [],
   "source": [
    "climate.remove(\"new_value\")\n",
    "print(climate)"
   ]
  },
  {
   "cell_type": "code",
   "execution_count": null,
   "metadata": {},
   "outputs": [],
   "source": [
    "value = climate.pop(0)\n",
    "print(climate)\n",
    "print(value)"
   ]
  },
  {
   "cell_type": "code",
   "execution_count": null,
   "metadata": {},
   "outputs": [],
   "source": [
    "print(climate.count(\"seaice\"))"
   ]
  },
  {
   "cell_type": "markdown",
   "metadata": {},
   "source": [
    "## Tuples"
   ]
  },
  {
   "cell_type": "markdown",
   "metadata": {},
   "source": [
    "Tuples are similar to lists in the sense that it's also a group of items but it's enclosed in small brackets ( ) compared to a list. Another important difference with lists is that *tuples are immutable*. That means we can't change the values inside a tuple. "
   ]
  },
  {
   "cell_type": "code",
   "execution_count": null,
   "metadata": {},
   "outputs": [],
   "source": [
    "mini_tuple = (2.5, 'seaice', 'glaciers', 1.5)\n",
    "mini_tuple"
   ]
  },
  {
   "cell_type": "markdown",
   "metadata": {},
   "source": [
    "**Indexing and slicing work the same way as in lists**"
   ]
  },
  {
   "cell_type": "code",
   "execution_count": null,
   "metadata": {},
   "outputs": [],
   "source": [
    "mini_tuple[2]"
   ]
  },
  {
   "cell_type": "code",
   "execution_count": null,
   "metadata": {},
   "outputs": [],
   "source": [
    "mini_tuple[:2]"
   ]
  },
  {
   "cell_type": "code",
   "execution_count": null,
   "metadata": {},
   "outputs": [],
   "source": [
    "mini_tuple[-2:]"
   ]
  },
  {
   "cell_type": "markdown",
   "metadata": {},
   "source": [
    "List items are mutable"
   ]
  },
  {
   "cell_type": "code",
   "execution_count": null,
   "metadata": {},
   "outputs": [],
   "source": [
    "print(climate)\n",
    "climate[3] = 'melting'\n",
    "climate"
   ]
  },
  {
   "cell_type": "markdown",
   "metadata": {},
   "source": [
    "**Tuples are not mutable!**"
   ]
  },
  {
   "cell_type": "code",
   "execution_count": null,
   "metadata": {},
   "outputs": [],
   "source": [
    "mini_tuple[3] = 'melting' # tuples are not mutable"
   ]
  },
  {
   "cell_type": "markdown",
   "metadata": {},
   "source": [
    "Aha, another Error! The error message is called the \"stack trace\" it helps you figure out what's going wrong. In this case we have a \"TypeError\". The stack trace also shows you where the error happened. In this case in cell 45, line 1 (obviously)."
   ]
  },
  {
   "cell_type": "markdown",
   "metadata": {},
   "source": [
    "You can turn tuples into lists (so they are mutables and make use of all lists operations) and then back to tuples, if needed:"
   ]
  },
  {
   "cell_type": "code",
   "execution_count": null,
   "metadata": {},
   "outputs": [],
   "source": [
    "list_from_mini_tuple = list(mini_tuple)\n",
    "list_from_mini_tuple"
   ]
  },
  {
   "cell_type": "code",
   "execution_count": null,
   "metadata": {},
   "outputs": [],
   "source": [
    "back_to_tuple = tuple(list_from_mini_tuple)\n",
    "back_to_tuple"
   ]
  },
  {
   "cell_type": "markdown",
   "metadata": {},
   "source": [
    "## Sets\n",
    "\n",
    "Sets are similar to lists in the sense that it's also a group of items but it's enclosed in small brackets {} compared to a list. The important difference is that sets can only contain unique objects!"
   ]
  },
  {
   "cell_type": "code",
   "execution_count": null,
   "metadata": {},
   "outputs": [],
   "source": [
    "list_with_duplicates = [2.5, 'seaice', 'glaciers', 1.5,'glaciers', 1.5]\n",
    "list_with_duplicates"
   ]
  },
  {
   "cell_type": "code",
   "execution_count": null,
   "metadata": {},
   "outputs": [],
   "source": [
    "set(list_with_duplicates)"
   ]
  },
  {
   "cell_type": "markdown",
   "metadata": {},
   "source": [
    "## Lists vs. Tuples vs. Sets\n",
    "\n",
    "Here's a table outlining the differences between lists, sets, and tuples in Python:\n",
    "(Markdown can also do tables!)\n",
    "\n",
    "| Feature          | List                                      | Set                                       | Tuple                                     |\n",
    "|------------------|-------------------------------------------|-------------------------------------------|-------------------------------------------|\n",
    "| **Definition**   | Ordered collection of items               | Unordered collection of unique items      | Ordered, immutable collection of items    |\n",
    "| **Syntax**       | `[item1, item2, ...]`                     | `{item1, item2, ...}`                     | `(item1, item2, ...)`                     |\n",
    "| **Mutability**   | Mutable                                   | Mutable                                   | Immutable                                 |\n",
    "| **Duplicates**   | Allows duplicates                         | Does not allow duplicates                 | Allows duplicates                         |\n",
    "| **Indexing**     | Accessed by index: `my_list[0]`           | Cannot be indexed                         | Accessed by index: `my_tuple[0]`          |\n",
    "| **Ordering**     | Preserves order of elements               | No guaranteed order                       | Preserves order of elements               |\n",
    "| **Usage**        | Used for sequences where order matters    | Used for uniqueness or membership testing | Used for fixed collections of items       |\n",
    "| **Methods**      | Extensive methods like `append()`, `remove()`, `index()`, etc. | Methods for set operations like `union()`, `intersection()`, `difference()`, etc. | Limited methods due to immutability, like `count()`, `index()`, etc. |\n",
    "\n"
   ]
  },
  {
   "cell_type": "markdown",
   "metadata": {},
   "source": [
    "## Dictionaries"
   ]
  },
  {
   "cell_type": "markdown",
   "metadata": {},
   "source": [
    "Python dictionaries consist of key-value pairs, like a dictionary book. You can also visualise it kind of like a table. Dictionary are declared with curly brackets { }.\n",
    "\n",
    "`Syntax`: dict = {key1:value1, key2:value2, ..., keyn: valuen}\n",
    "\n",
    "* Key can be any number or string\n",
    "* Value can be anything"
   ]
  },
  {
   "cell_type": "code",
   "execution_count": null,
   "metadata": {},
   "outputs": [],
   "source": [
    "cl = {'climate': 'change', 'zip': 3012}"
   ]
  },
  {
   "cell_type": "code",
   "execution_count": null,
   "metadata": {},
   "outputs": [],
   "source": [
    "cl"
   ]
  },
  {
   "cell_type": "markdown",
   "metadata": {},
   "source": [
    "Values can be assigned or accessed using square brackets [ ]"
   ]
  },
  {
   "cell_type": "code",
   "execution_count": null,
   "metadata": {},
   "outputs": [],
   "source": [
    "cl['climate']"
   ]
  },
  {
   "cell_type": "markdown",
   "metadata": {},
   "source": [
    "You can add dictionaries to dictionaries with: \n",
    " * dict_name.update(new_dict_name)"
   ]
  },
  {
   "cell_type": "markdown",
   "metadata": {},
   "source": [
    "Let's assign an empty list to a new key called 'new_key':"
   ]
  },
  {
   "cell_type": "code",
   "execution_count": null,
   "metadata": {},
   "outputs": [],
   "source": [
    "cl.update({'new_key': []})\n",
    "cl"
   ]
  },
  {
   "cell_type": "markdown",
   "metadata": {},
   "source": [
    "Now we can populate the list with e.g. a tuple of strings:"
   ]
  },
  {
   "cell_type": "code",
   "execution_count": null,
   "metadata": {},
   "outputs": [],
   "source": [
    "cl['new_key'].append(('string1', 'string2'))\n",
    "cl"
   ]
  },
  {
   "cell_type": "markdown",
   "metadata": {},
   "source": [
    "If you have large dictionaries with many keys and values, you can list them by doing:"
   ]
  },
  {
   "cell_type": "code",
   "execution_count": null,
   "metadata": {},
   "outputs": [],
   "source": [
    "cl.keys() # only keys"
   ]
  },
  {
   "cell_type": "code",
   "execution_count": null,
   "metadata": {},
   "outputs": [],
   "source": [
    "cl.values() # only values"
   ]
  },
  {
   "cell_type": "code",
   "execution_count": null,
   "metadata": {},
   "outputs": [],
   "source": [
    "cl.items() # keys and values as tuples"
   ]
  },
  {
   "cell_type": "markdown",
   "metadata": {},
   "source": [
    "This comes in handy when e.g. performing loops."
   ]
  },
  {
   "cell_type": "markdown",
   "metadata": {},
   "source": [
    "# Loops and if - else statements:"
   ]
  },
  {
   "cell_type": "markdown",
   "metadata": {},
   "source": [
    "Both are crucial in any programming language."
   ]
  },
  {
   "cell_type": "markdown",
   "metadata": {},
   "source": [
    "## For Loops"
   ]
  },
  {
   "cell_type": "code",
   "execution_count": null,
   "metadata": {},
   "outputs": [],
   "source": [
    "num_list = [1,2,3,5,7,8,9,4,32,3,5,4] # list of numbers\n",
    "# How to add 1 to each element of the list?"
   ]
  },
  {
   "cell_type": "markdown",
   "metadata": {},
   "source": [
    "Basic structure:"
   ]
  },
  {
   "cell_type": "raw",
   "metadata": {},
   "source": [
    "for <element> in <iterable object>:\n",
    "    do something with <element>"
   ]
  },
  {
   "cell_type": "markdown",
   "metadata": {},
   "source": [
    "Assuming with have a list of numbers and we want to add each number with the first one and print it: "
   ]
  },
  {
   "cell_type": "code",
   "execution_count": null,
   "metadata": {},
   "outputs": [],
   "source": [
    "for element in num_list: # note: element can get any name\n",
    "    \n",
    "    # sum current element with the first element of our list of numbers\n",
    "    sum_el_to_first = element + num_list[0]\n",
    "    \n",
    "    # print\n",
    "    print(sum_el_to_first)"
   ]
  },
  {
   "cell_type": "markdown",
   "metadata": {},
   "source": [
    "Or we can save the results in a new list: "
   ]
  },
  {
   "cell_type": "code",
   "execution_count": null,
   "metadata": {},
   "outputs": [],
   "source": [
    "num_list = [1,2,3,5,7,8,9,4,32,3,5,4] # list of numbers\n",
    "\n",
    "new_list = [] # initialize an empty list\n",
    "\n",
    "for element in num_list: # note: element can get any name\n",
    "    \n",
    "    # sum current element with the first\n",
    "    sum_el_to_first = element + num_list[0]\n",
    "    \n",
    "    # append the result to the new list\n",
    "    new_list.append(sum_el_to_first)\n",
    "    \n",
    "new_list # let's see what we got"
   ]
  },
  {
   "cell_type": "markdown",
   "metadata": {},
   "source": [
    "Python also has a specific, more compact, syntax for manipulating lists called \"List Comprehension\":"
   ]
  },
  {
   "cell_type": "code",
   "execution_count": null,
   "metadata": {},
   "outputs": [],
   "source": [
    "new_list2 = [element+num_list[0] for element in num_list]\n",
    "new_list2"
   ]
  },
  {
   "cell_type": "markdown",
   "metadata": {},
   "source": [
    "We could iterate over the keys of a dictionary, access its element and do something. \n",
    "<br>\n",
    "Let's (1) create a dictionary with two keys containing the two lists we just dealt with, (2) iterate over the keys, (3) extract the third element of each list, (4) append it to a new list and (5) create a new item in the dictionary."
   ]
  },
  {
   "cell_type": "code",
   "execution_count": null,
   "metadata": {},
   "outputs": [],
   "source": [
    "# mind: you should NOT name your dictionary 'dict', as you would overwrite the 'dict' python built-in function.\n",
    "dict_ = {'any_name_really': num_list, 'any_name_really_but_not_the_previous_one': new_list} # (1)"
   ]
  },
  {
   "cell_type": "code",
   "execution_count": null,
   "metadata": {},
   "outputs": [],
   "source": [
    "third_elements=[]\n",
    "for key in dict_.keys():                              # (2)\n",
    "    third_element = dict_[key][2]                     # (3) - remember, python idexes starting at 0\n",
    "    third_elements.append(third_element)              # (4)\n",
    "    \n",
    "dict_.update({'third_elements_key': third_elements})  # (5)\n",
    "dict_"
   ]
  },
  {
   "cell_type": "markdown",
   "metadata": {},
   "source": [
    "## While loops"
   ]
  },
  {
   "cell_type": "markdown",
   "metadata": {},
   "source": [
    "Similar to \"For\" loops but with a condition instead of an iterable."
   ]
  },
  {
   "cell_type": "raw",
   "metadata": {},
   "source": [
    "while <codition>:\n",
    "    do something"
   ]
  },
  {
   "cell_type": "code",
   "execution_count": null,
   "metadata": {},
   "outputs": [],
   "source": [
    "i = 1\n",
    "while i < 5:\n",
    "    print(i)\n",
    "    i += 1 # is equal to i = i + 1"
   ]
  },
  {
   "cell_type": "markdown",
   "metadata": {},
   "source": [
    "While can also use the \"break\" keyword to stop the loop if a certain condition is True:"
   ]
  },
  {
   "cell_type": "code",
   "execution_count": null,
   "metadata": {},
   "outputs": [],
   "source": [
    "i = 1\n",
    "while i < 6:\n",
    "    print(i)\n",
    "    if i == 3:\n",
    "        break\n",
    "    i += 1"
   ]
  },
  {
   "cell_type": "markdown",
   "metadata": {},
   "source": [
    "## If - else statements"
   ]
  },
  {
   "cell_type": "markdown",
   "metadata": {},
   "source": [
    "Basic structure:"
   ]
  },
  {
   "cell_type": "raw",
   "metadata": {},
   "source": [
    "if <condition 1>:\n",
    "    do something\n",
    "    \n",
    "elif <condition 2>:\n",
    "    do something else\n",
    "..\n",
    "..\n",
    "elif <condition n>:\n",
    "    yet something else\n",
    "    \n",
    "else:\n",
    "    do what you would do when none of above conditions are met"
   ]
  },
  {
   "cell_type": "markdown",
   "metadata": {},
   "source": [
    "Note: \n",
    "1. the only mandatory statement is the *if* operator\n",
    "2. you can have as many *elif* as you wish"
   ]
  },
  {
   "cell_type": "markdown",
   "metadata": {},
   "source": [
    "Let's print to screen whether a given number is in *num_list*:"
   ]
  },
  {
   "cell_type": "code",
   "execution_count": null,
   "metadata": {},
   "outputs": [],
   "source": [
    "num_list = [1,2,3,5,7,8,9,4,32,3,5,4]\n",
    "\n",
    "num = 1\n",
    "if num in num_list:\n",
    "    print('Got it')\n",
    "else:\n",
    "    print('Try another number')"
   ]
  },
  {
   "cell_type": "markdown",
   "metadata": {},
   "source": [
    "Let's print to screen whether either a given number or its double is in *num_list*:"
   ]
  },
  {
   "cell_type": "code",
   "execution_count": null,
   "metadata": {},
   "outputs": [],
   "source": [
    "num = 1 # try 1 and 5\n",
    "if (num in num_list) and (num*2 in num_list):\n",
    "    print('Got both')\n",
    "    \n",
    "elif (num in num_list) or (num*2 in num_list):\n",
    "    print('Got only one')\n",
    "    \n",
    "else:\n",
    "    print('None of the two')\n",
    "    "
   ]
  },
  {
   "cell_type": "markdown",
   "metadata": {},
   "source": [
    "Try num = 5. How can we know whether 5 or 10 is in num_list?\n",
    "<br>\n",
    "Why not an inner if-else statement?"
   ]
  },
  {
   "cell_type": "code",
   "execution_count": null,
   "metadata": {},
   "outputs": [],
   "source": [
    "num = 5 # try 1 and 5\n",
    "if (num in num_list) and (num*2 in num_list):\n",
    "    print('Got both')\n",
    "    \n",
    "elif (num in num_list) or (num*2 in num_list):\n",
    "    if (num in num_list):\n",
    "        print('Got the original number')\n",
    "    else:\n",
    "        print('Got its double')\n",
    "else:\n",
    "    print('None of the two')"
   ]
  },
  {
   "cell_type": "markdown",
   "metadata": {},
   "source": [
    "You can obviously combine *for* loops with *if - else* statements and *many* more operations. Care needs to be taken however in order to keep your code reasonably efficient (i.e. it does not take ages to run). For instance, nested or even single *for* loops can easily became very time consuming."
   ]
  },
  {
   "cell_type": "markdown",
   "metadata": {},
   "source": [
    "# Python Naming Conventions"
   ]
  },
  {
   "cell_type": "markdown",
   "metadata": {},
   "source": [
    "To keep code uniform and ledgible between multiple codebases there are some good practices in regards to naming. They are called the PEP8. https://peps.python.org/pep-0008/."
   ]
  },
  {
   "cell_type": "markdown",
   "metadata": {},
   "source": [
    "## Variables names"
   ]
  },
  {
   "cell_type": "markdown",
   "metadata": {},
   "source": [
    "Variables in python should be lowercase, with words separated by underscores.\n",
    "Python variables can start with a to z or underscore. The names should be self explanatory for anyone reading your code."
   ]
  },
  {
   "cell_type": "code",
   "execution_count": null,
   "metadata": {},
   "outputs": [],
   "source": [
    "surface_area_switzerland = 41285 # good variable name\n",
    "chkm2 = 41285 # cryptic variable name"
   ]
  },
  {
   "cell_type": "markdown",
   "metadata": {},
   "source": [
    "There are some resevered words that are used as Python keywords (see list included below). You **can't** use these words for declaring variables."
   ]
  },
  {
   "cell_type": "code",
   "execution_count": null,
   "metadata": {
    "jupyter": {
     "source_hidden": true
    },
    "tags": []
   },
   "outputs": [],
   "source": [
    "## Python Keywords\n",
    "import IPython.display as display\n",
    "display.Image(url=\"https://i.imgur.com/ROm3pQd.png\")"
   ]
  },
  {
   "cell_type": "markdown",
   "metadata": {},
   "source": [
    "-----------------------------------------------------------"
   ]
  },
  {
   "cell_type": "markdown",
   "metadata": {},
   "source": [
    "The above is fun but is very limitative if one sticks to python's native packages. For this reason, tons of *external* packages have been developed to serve different scopes. Some packages are built on top of others; the three main *building blocks* are probably:\n",
    "* numpy\n",
    "* pandas\n",
    "* matplotlib\n",
    "\n",
    "Below we provide a brief intro to numpy."
   ]
  },
  {
   "cell_type": "markdown",
   "metadata": {},
   "source": [
    "# Importing a package"
   ]
  },
  {
   "cell_type": "markdown",
   "metadata": {},
   "source": [
    "Typically, modules are imported at the beginning af a python script. You can use syntax such as:"
   ]
  },
  {
   "cell_type": "markdown",
   "metadata": {},
   "source": [
    "|||\n",
    "|---|---|\n",
    "|import package_name|Import a package with its original name and access all of its functions by typing package_name.function_name()|    \n",
    "| import package_name as package_newname | It is often the case that you you don't want to write the entire package name everytime you call a function, so you assign an easier name|\n",
    "|from package_name import function_name|Import a particular function from the package and call it through its original name|\n",
    "|from package_name import function_name as function_newname|Import a particular function from the package but assign a new name|\n",
    "|from package_name import * |Import all functions from the package and call them through their respective original names|"
   ]
  },
  {
   "cell_type": "code",
   "execution_count": null,
   "metadata": {},
   "outputs": [],
   "source": [
    "import numpy"
   ]
  },
  {
   "cell_type": "code",
   "execution_count": null,
   "metadata": {},
   "outputs": [],
   "source": [
    "numpy.ones # there is function in numpy called ones\n"
   ]
  },
  {
   "cell_type": "code",
   "execution_count": null,
   "metadata": {},
   "outputs": [],
   "source": [
    "import numpy as np"
   ]
  },
  {
   "cell_type": "code",
   "execution_count": null,
   "metadata": {},
   "outputs": [],
   "source": [
    "np.ones"
   ]
  },
  {
   "cell_type": "code",
   "execution_count": null,
   "metadata": {},
   "outputs": [],
   "source": [
    "from numpy import ones"
   ]
  },
  {
   "cell_type": "code",
   "execution_count": null,
   "metadata": {},
   "outputs": [],
   "source": [
    "ones"
   ]
  },
  {
   "cell_type": "code",
   "execution_count": null,
   "metadata": {},
   "outputs": [],
   "source": [
    "from numpy import ones as ons"
   ]
  },
  {
   "cell_type": "code",
   "execution_count": null,
   "metadata": {},
   "outputs": [],
   "source": [
    "ons"
   ]
  },
  {
   "cell_type": "code",
   "execution_count": null,
   "metadata": {},
   "outputs": [],
   "source": [
    "from numpy import *"
   ]
  },
  {
   "cell_type": "code",
   "execution_count": null,
   "metadata": {},
   "outputs": [],
   "source": [
    "add"
   ]
  },
  {
   "cell_type": "code",
   "execution_count": null,
   "metadata": {},
   "outputs": [],
   "source": [
    "ones"
   ]
  },
  {
   "cell_type": "code",
   "execution_count": null,
   "metadata": {},
   "outputs": [],
   "source": [
    "zeros"
   ]
  },
  {
   "cell_type": "markdown",
   "metadata": {},
   "source": [
    "...and all packages in numpy"
   ]
  },
  {
   "cell_type": "markdown",
   "metadata": {},
   "source": [
    "By far the most common you will find, as far as numpy is concerned, is:"
   ]
  },
  {
   "cell_type": "raw",
   "metadata": {},
   "source": [
    "import numpy as np"
   ]
  },
  {
   "cell_type": "markdown",
   "metadata": {},
   "source": [
    "so we stick to this one"
   ]
  },
  {
   "cell_type": "markdown",
   "metadata": {},
   "source": [
    "# Exercises"
   ]
  },
  {
   "cell_type": "markdown",
   "metadata": {},
   "source": [
    "You get a Series of Temperature Measurements from the MeteoSwiss Weather Station in Zollikofen. The data is for one day from 00:00 to 23:50 with a measurement every 10 minutes."
   ]
  },
  {
   "cell_type": "code",
   "execution_count": null,
   "metadata": {},
   "outputs": [],
   "source": [
    "# This code snipped will read the data from the csv file and give you a list. You don't need to understand everything\n",
    "# that is happening yet.\n",
    "\n",
    "import csv #we can use the csv module to read a csv file\n",
    "# first we have to open the file\n",
    "# The file path is the location of the file on your computer. You can copy it from the file explorer.\n",
    "# for example: /home/user/file.csv or /Users/user/file.csv\n",
    "with open(\"C:/your/path/to/file/temperatures_zollikofen.csv\", newline='') as file:\n",
    "    reader = csv.reader(file) # then we use a reader object to read the content of the file\n",
    "    temperatures = next(reader) # Now we put the content of the reader into a list\n",
    "temperatures = [float(x) for x in temperatures] # The values are read as strings. We have to convert them to float first\n",
    "# Here we used \"list comprehension\" this is a handy, python specific way to apply functions to a list\n",
    "print(temperatures)"
   ]
  },
  {
   "cell_type": "markdown",
   "metadata": {},
   "source": [
    "So first let's check if we have all the measurements we need to investigate the whole day. With 24h and 6 measurements per hour we would expect 144 values. How many are there in the list we've read from?"
   ]
  },
  {
   "cell_type": "code",
   "execution_count": null,
   "metadata": {},
   "outputs": [],
   "source": [
    "# Your Code"
   ]
  },
  {
   "cell_type": "markdown",
   "metadata": {},
   "source": [
    "There is a value missing! It's infact the first value for 00:00 and it would be 2.949576240750525°C. Can you put it back into the list at the correct location?"
   ]
  },
  {
   "cell_type": "code",
   "execution_count": null,
   "metadata": {},
   "outputs": [],
   "source": [
    "# Your Code"
   ]
  },
  {
   "cell_type": "markdown",
   "metadata": {},
   "source": [
    "Now let's get a first impression of the values. Can you figure out what the minimum and maximum temperatures of that day were?"
   ]
  },
  {
   "cell_type": "code",
   "execution_count": null,
   "metadata": {},
   "outputs": [],
   "source": [
    "# Your Code"
   ]
  },
  {
   "cell_type": "markdown",
   "metadata": {},
   "source": [
    "Hmm.. our values look a bit strange. The minimum and maximum temperatures are quite close to each other and the numbers themselves look odd. For some reason someone stored the square roots of all the numbers! Before we can continue we have to fix that. Can you convert the numbers back to their original values?"
   ]
  },
  {
   "cell_type": "code",
   "execution_count": null,
   "metadata": {},
   "outputs": [],
   "source": [
    "# Your Code"
   ]
  },
  {
   "cell_type": "markdown",
   "metadata": {},
   "source": [
    "The values still look a bit weird. We do not need such high precision. Can you round them to only 1 value after the decimal point?"
   ]
  },
  {
   "cell_type": "code",
   "execution_count": null,
   "metadata": {},
   "outputs": [],
   "source": [
    "# Your Code"
   ]
  },
  {
   "cell_type": "markdown",
   "metadata": {},
   "source": [
    "Now that we have the original measurements we can look at the data again. We are actually interested in the fourth highest temperature of the day. What is it?"
   ]
  },
  {
   "cell_type": "code",
   "execution_count": null,
   "metadata": {},
   "outputs": [],
   "source": [
    "# Your Code"
   ]
  },
  {
   "cell_type": "markdown",
   "metadata": {},
   "source": [
    "10-minute temporal resolution is quite high. Hourly averages would be enough to continue working. Can you calculate a list containing these 24 hourly averages?"
   ]
  },
  {
   "cell_type": "code",
   "execution_count": null,
   "metadata": {},
   "outputs": [],
   "source": [
    "# Your Code"
   ]
  },
  {
   "cell_type": "code",
   "execution_count": null,
   "metadata": {},
   "outputs": [],
   "source": []
  }
 ],
 "metadata": {
  "kernelspec": {
   "display_name": "cra_env",
   "language": "python",
   "name": "python3"
  },
  "language_info": {
   "codemirror_mode": {
    "name": "ipython",
    "version": 3
   },
   "file_extension": ".py",
   "mimetype": "text/x-python",
   "name": "python",
   "nbconvert_exporter": "python",
   "pygments_lexer": "ipython3",
   "version": "3.12.9"
  },
  "toc": {
   "base_numbering": 1,
   "nav_menu": {},
   "number_sections": true,
   "sideBar": true,
   "skip_h1_title": false,
   "title_cell": "Table of Contents",
   "title_sidebar": "Contents",
   "toc_cell": true,
   "toc_position": {
    "height": "calc(100% - 180px)",
    "left": "10px",
    "top": "150px",
    "width": "276.4px"
   },
   "toc_section_display": true,
   "toc_window_display": true
  }
 },
 "nbformat": 4,
 "nbformat_minor": 4
}
