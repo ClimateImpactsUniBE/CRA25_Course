{
 "cells": [
  {
   "cell_type": "markdown",
   "metadata": {},
   "source": [
    "`Aim:` *Notebook for the purpose of Climate Risk Assessment lecture:* `Profiling code`\n",
    "\n",
    "`Author:` Martin Aregger"
   ]
  },
  {
   "cell_type": "markdown",
   "metadata": {},
   "source": [
    "This Notebook contains a number of simple examples on how you can profile your python content. It is by far not exhaustive and you can find many more tools online!"
   ]
  },
  {
   "cell_type": "markdown",
   "metadata": {},
   "source": [
    "# Profiling the timing of code \n",
    "\n",
    "Examples of 4 different ways to measure the time your code takes. Each of them does something a bit different, so they may be complement each other.\n",
    "\n",
    "- **time.time()**: Measures wall-clock time.\n",
    "- **timeit.timeit()**: Repeats the execution multiple times for averaging.\n",
    "- **cProfile**: Reports function-level timing and call counts.\n",
    "- **line_profiler**: Provides line-by-line profiling for in-depth analysis."
   ]
  },
  {
   "cell_type": "code",
   "execution_count": null,
   "metadata": {},
   "outputs": [],
   "source": [
    "import time\n",
    "import timeit\n",
    "import cProfile\n",
    "from line_profiler import LineProfiler\n",
    "# this is a third party module, install it in your environment! is a third party module, install it in your environment!\n",
    "\n",
    "import numpy as np"
   ]
  },
  {
   "cell_type": "code",
   "execution_count": null,
   "metadata": {},
   "outputs": [],
   "source": [
    "# Helper functions\n",
    "def generate_matrix(size):\n",
    "    \"\"\"Generates a random matrix.\"\"\"\n",
    "    return np.random.rand(size, size)\n",
    "\n",
    "\n",
    "def multiply_matrices(A, B):\n",
    "    \"\"\"Performs matrix multiplication.\"\"\"\n",
    "    return np.dot(A, B)\n",
    "\n",
    "\n",
    "def compute_statistics(matrix):\n",
    "    \"\"\"Computes some statistics on a matrix.\"\"\"\n",
    "    mean = np.mean(matrix)\n",
    "    std = np.std(matrix)\n",
    "    max_val = np.max(matrix)\n",
    "    min_val = np.min(matrix)\n",
    "    return {\"mean\": mean, \"std\": std, \"max\": max_val, \"min\": min_val}\n",
    "\n",
    "\n",
    "# Example function to profile\n",
    "def example_function():\n",
    "    # Main computation\n",
    "    size = 2000\n",
    "    iterations = 5\n",
    "    stats = []\n",
    "    for _ in range(iterations):\n",
    "        A = generate_matrix(size)\n",
    "        B = generate_matrix(size)\n",
    "        result = multiply_matrices(A, B)\n",
    "        stats.append(compute_statistics(result))\n",
    "    return\n"
   ]
  },
  {
   "cell_type": "code",
   "execution_count": 3,
   "metadata": {},
   "outputs": [],
   "source": [
    "# simplest way to profile a function --> use the timer of the jupyter notebook cell...\n",
    "example_function()\n",
    "\n",
    "# Very inconsistent!"
   ]
  },
  {
   "cell_type": "code",
   "execution_count": 8,
   "metadata": {},
   "outputs": [
    {
     "name": "stdout",
     "output_type": "stream",
     "text": [
      "[time.time] Execution time: 1.10023 seconds\n"
     ]
    }
   ],
   "source": [
    "# Method 1: Using time.time()\n",
    "start_time = time.time()\n",
    "example_function()\n",
    "end_time = time.time()\n",
    "print(f\"[time.time] Execution time: {end_time - start_time:.5f} seconds\")\n",
    "\n",
    "# This method measures the time between the start time and end time\n",
    "# It is called wall time, and it includes the time spent by the process waiting for the CPU, I/O operations, etc."
   ]
  },
  {
   "cell_type": "code",
   "execution_count": 9,
   "metadata": {},
   "outputs": [
    {
     "name": "stdout",
     "output_type": "stream",
     "text": [
      "[timeit] Average execution time over 5 runs: 1.06003 seconds\n"
     ]
    }
   ],
   "source": [
    "# Method 2: Using timeit.timeit()\n",
    "execution_time = timeit.timeit(\"example_function()\", globals=globals(), number=5)\n",
    "print(f\"[timeit] Average execution time over 5 runs: {execution_time / 5:.5f} seconds\")\n",
    "\n",
    "# This method is more accurate than time.time() because it runs the function multiple times and calculates the average time\n",
    "# It is useful when the function execution time is short"
   ]
  },
  {
   "cell_type": "code",
   "execution_count": 10,
   "metadata": {},
   "outputs": [
    {
     "name": "stdout",
     "output_type": "stream",
     "text": [
      "         309 function calls in 1.067 seconds\n",
      "\n",
      "   Ordered by: standard name\n",
      "\n",
      "   ncalls  tottime  percall  cumtime  percall filename:lineno(function)\n",
      "        5    0.000    0.000    0.149    0.030 1948630586.py:10(compute_statistics)\n",
      "       10    0.001    0.000    0.413    0.041 1948630586.py:2(generate_matrix)\n",
      "        1    0.000    0.000    1.065    1.065 1948630586.py:22(example_function)\n",
      "        5    0.503    0.101    0.503    0.101 1948630586.py:6(multiply_matrices)\n",
      "        1    0.002    0.002    1.066    1.066 <string>:1(<module>)\n",
      "        5    0.004    0.001    0.033    0.007 _methods.py:101(_mean)\n",
      "        5    0.054    0.011    0.082    0.016 _methods.py:135(_var)\n",
      "        5    0.002    0.000    0.084    0.017 _methods.py:204(_std)\n",
      "       10    0.001    0.000    0.001    0.000 _methods.py:67(_count_reduce_items)\n",
      "       10    0.000    0.000    0.000    0.000 _ufunc_config.py:452(_no_nep50_warning)\n",
      "        5    0.000    0.000    0.000    0.000 contextlib.py:102(__init__)\n",
      "        5    0.000    0.000    0.000    0.000 contextlib.py:130(__enter__)\n",
      "        5    0.000    0.000    0.000    0.000 contextlib.py:139(__exit__)\n",
      "        5    0.000    0.000    0.000    0.000 contextlib.py:279(helper)\n",
      "        5    0.000    0.000    0.000    0.000 fromnumeric.py:2687(_max_dispatcher)\n",
      "        5    0.000    0.000    0.018    0.004 fromnumeric.py:2692(max)\n",
      "        5    0.000    0.000    0.000    0.000 fromnumeric.py:2831(_min_dispatcher)\n",
      "        5    0.000    0.000    0.014    0.003 fromnumeric.py:2836(min)\n",
      "        5    0.000    0.000    0.000    0.000 fromnumeric.py:3380(_mean_dispatcher)\n",
      "        5    0.000    0.000    0.033    0.007 fromnumeric.py:3385(mean)\n",
      "        5    0.000    0.000    0.000    0.000 fromnumeric.py:3508(_std_dispatcher)\n",
      "        5    0.000    0.000    0.084    0.017 fromnumeric.py:3513(std)\n",
      "       10    0.000    0.000    0.031    0.003 fromnumeric.py:71(_wrapreduction)\n",
      "       10    0.000    0.000    0.000    0.000 fromnumeric.py:72(<dictcomp>)\n",
      "        5    0.000    0.000    0.000    0.000 multiarray.py:741(dot)\n",
      "        1    0.000    0.000    1.067    1.067 {built-in method builtins.exec}\n",
      "        5    0.000    0.000    0.000    0.000 {built-in method builtins.getattr}\n",
      "       15    0.000    0.000    0.000    0.000 {built-in method builtins.hasattr}\n",
      "       20    0.000    0.000    0.000    0.000 {built-in method builtins.isinstance}\n",
      "       20    0.000    0.000    0.000    0.000 {built-in method builtins.issubclass}\n",
      "       10    0.000    0.000    0.000    0.000 {built-in method builtins.next}\n",
      "       15    0.000    0.000    0.000    0.000 {built-in method numpy.asanyarray}\n",
      "       20    0.000    0.000    0.000    0.000 {built-in method numpy.core._multiarray_umath.normalize_axis_index}\n",
      "        5    0.000    0.000    0.000    0.000 {method 'append' of 'list' objects}\n",
      "        1    0.000    0.000    0.000    0.000 {method 'disable' of '_lsprof.Profiler' objects}\n",
      "       10    0.000    0.000    0.000    0.000 {method 'items' of 'dict' objects}\n",
      "       10    0.412    0.041    0.412    0.041 {method 'rand' of 'numpy.random.mtrand.RandomState' objects}\n",
      "       25    0.087    0.003    0.087    0.003 {method 'reduce' of 'numpy.ufunc' objects}\n",
      "        5    0.000    0.000    0.000    0.000 {method 'reset' of '_contextvars.ContextVar' objects}\n",
      "        5    0.000    0.000    0.000    0.000 {method 'set' of '_contextvars.ContextVar' objects}\n",
      "\n",
      "\n"
     ]
    }
   ],
   "source": [
    "# Method 3: Using cProfile\n",
    "cProfile.run(\"example_function()\")\n",
    "\n",
    "# This method provides detailed information about the function execution time, number of calls, and more"
   ]
  },
  {
   "cell_type": "code",
   "execution_count": 11,
   "metadata": {},
   "outputs": [
    {
     "name": "stdout",
     "output_type": "stream",
     "text": [
      "Timer unit: 1e-09 s\n",
      "\n",
      "Total time: 1.08528 s\n",
      "File: /tmp/ipykernel_117215/1948630586.py\n",
      "Function: example_function at line 22\n",
      "\n",
      "Line #      Hits         Time  Per Hit   % Time  Line Contents\n",
      "==============================================================\n",
      "    22                                           def example_function():\n",
      "    23                                           \n",
      "    24                                           \n",
      "    25                                               # Main computation\n",
      "    26         1        841.0    841.0      0.0      size = 2000\n",
      "    27         1        160.0    160.0      0.0      iterations = 5\n",
      "    28         1        160.0    160.0      0.0      stats = []\n",
      "    29         6     404199.0  67366.5      0.0      for _ in range(iterations):\n",
      "    30         5  204991699.0    4e+07     18.9          A = generate_matrix(size)\n",
      "    31         5  272654606.0    5e+07     25.1          B = generate_matrix(size)\n",
      "    32         5  454339408.0    9e+07     41.9          result = multiply_matrices(A, B)\n",
      "    33         5  152888578.0    3e+07     14.1          stats.append(compute_statistics(result))\n",
      "    34         1        391.0    391.0      0.0      return \n",
      "\n"
     ]
    }
   ],
   "source": [
    "# Method 4: Using line_profiler\n",
    "profiler = LineProfiler()\n",
    "profiler.add_function(example_function)\n",
    "profiler.run(\"example_function()\")\n",
    "profiler.print_stats()\n",
    "\n",
    "#"
   ]
  },
  {
   "cell_type": "code",
   "execution_count": null,
   "metadata": {},
   "outputs": [
    {
     "name": "stdout",
     "output_type": "stream",
     "text": [
      "Timer unit: 1e-09 s\n",
      "\n",
      "Total time: 0.55558 s\n",
      "File: /tmp/ipykernel_117215/1948630586.py\n",
      "Function: generate_matrix at line 2\n",
      "\n",
      "Line #      Hits         Time  Per Hit   % Time  Line Contents\n",
      "==============================================================\n",
      "     2                                           def generate_matrix(size):\n",
      "     3                                               \"\"\"Generates a random matrix.\"\"\"\n",
      "     4        10  555579934.0    6e+07    100.0      return np.random.rand(size, size)\n",
      "\n",
      "Total time: 0.504072 s\n",
      "File: /tmp/ipykernel_117215/1948630586.py\n",
      "Function: multiply_matrices at line 6\n",
      "\n",
      "Line #      Hits         Time  Per Hit   % Time  Line Contents\n",
      "==============================================================\n",
      "     6                                           def multiply_matrices(A, B):\n",
      "     7                                               \"\"\"Performs matrix multiplication.\"\"\"\n",
      "     8         5  504071893.0    1e+08    100.0      return np.dot(A, B)\n",
      "\n",
      "Total time: 0.177147 s\n",
      "File: /tmp/ipykernel_117215/1948630586.py\n",
      "Function: compute_statistics at line 10\n",
      "\n",
      "Line #      Hits         Time  Per Hit   % Time  Line Contents\n",
      "==============================================================\n",
      "    10                                           def compute_statistics(matrix):\n",
      "    11                                               \"\"\"Computes some statistics on a matrix.\"\"\"\n",
      "    12         5   66450605.0    1e+07     37.5      mean = np.mean(matrix)\n",
      "    13         5   81733853.0    2e+07     46.1      std = np.std(matrix)\n",
      "    14         5   15372539.0    3e+06      8.7      max_val = np.max(matrix)\n",
      "    15         5   13576798.0    3e+06      7.7      min_val = np.min(matrix)\n",
      "    16         5      12835.0   2567.0      0.0      return {\"mean\": mean, \"std\": std, \"max\": max_val, \"min\": min_val}\n",
      "\n",
      "Total time: 1.23713 s\n",
      "File: /tmp/ipykernel_117215/1948630586.py\n",
      "Function: example_function at line 22\n",
      "\n",
      "Line #      Hits         Time  Per Hit   % Time  Line Contents\n",
      "==============================================================\n",
      "    22                                           def example_function():\n",
      "    23                                           \n",
      "    24                                           \n",
      "    25                                               # Main computation\n",
      "    26         1       1172.0   1172.0      0.0      size = 2000\n",
      "    27         1        201.0    201.0      0.0      iterations = 5\n",
      "    28         1        211.0    211.0      0.0      stats = []\n",
      "    29         6       7014.0   1169.0      0.0      for _ in range(iterations):\n",
      "    30         5  208396744.0    4e+07     16.8          A = generate_matrix(size)\n",
      "    31         5  347273636.0    7e+07     28.1          B = generate_matrix(size)\n",
      "    32         5  504177635.0    1e+08     40.8          result = multiply_matrices(A, B)\n",
      "    33         5  177273734.0    4e+07     14.3          stats.append(compute_statistics(result))\n",
      "    34         1        180.0    180.0      0.0      return \n",
      "\n"
     ]
    }
   ],
   "source": [
    "# profile all the nested functions in the example_function with line_profiler\n",
    "\n",
    "profiler = LineProfiler()\n",
    "profiler.add_function(example_function)\n",
    "profiler.add_function(generate_matrix)\n",
    "profiler.add_function(multiply_matrices)\n",
    "profiler.add_function(compute_statistics)\n",
    "profiler.run(\"example_function()\")\n",
    "profiler.print_stats()\n"
   ]
  },
  {
   "cell_type": "markdown",
   "metadata": {},
   "source": [
    "## Jupyter notebook specific profiling"
   ]
  },
  {
   "cell_type": "markdown",
   "metadata": {},
   "source": [
    "Jupyter has a number of inbuilt magic commands that can be used to profile code. They are:\n",
    "- **%time**: Time the execution of a single statement\n",
    "- **%timeit**: Time repeated execution of a single statement for more accuracy\n",
    "- **%prun**: Run code with the profiler inbuilt in Jupyter\n",
    "- **%lprun**: Run code with the line-by-line profiler"
   ]
  },
  {
   "cell_type": "code",
   "execution_count": 13,
   "metadata": {},
   "outputs": [
    {
     "name": "stdout",
     "output_type": "stream",
     "text": [
      "CPU times: user 45.5 s, sys: 1min 10s, total: 1min 56s\n",
      "Wall time: 1.03 s\n"
     ]
    }
   ],
   "source": [
    "%time example_function()"
   ]
  },
  {
   "cell_type": "code",
   "execution_count": 14,
   "metadata": {},
   "outputs": [
    {
     "name": "stdout",
     "output_type": "stream",
     "text": [
      "910 ms ± 6.56 ms per loop (mean ± std. dev. of 7 runs, 1 loop each)\n"
     ]
    }
   ],
   "source": [
    "%timeit example_function()"
   ]
  },
  {
   "cell_type": "code",
   "execution_count": 15,
   "metadata": {},
   "outputs": [
    {
     "name": "stdout",
     "output_type": "stream",
     "text": [
      " "
     ]
    },
    {
     "name": "stdout",
     "output_type": "stream",
     "text": [
      "         309 function calls in 0.919 seconds\n",
      "\n",
      "   Ordered by: internal time\n",
      "\n",
      "   ncalls  tottime  percall  cumtime  percall filename:lineno(function)\n",
      "        5    0.416    0.083    0.416    0.083 1948630586.py:6(multiply_matrices)\n",
      "       10    0.347    0.035    0.347    0.035 {method 'rand' of 'numpy.random.mtrand.RandomState' objects}\n",
      "       25    0.103    0.004    0.103    0.004 {method 'reduce' of 'numpy.ufunc' objects}\n",
      "        5    0.047    0.009    0.073    0.015 _methods.py:135(_var)\n",
      "        1    0.002    0.002    0.918    0.918 <string>:1(<module>)\n",
      "       10    0.001    0.000    0.001    0.000 _methods.py:67(_count_reduce_items)\n",
      "       10    0.001    0.000    0.348    0.035 1948630586.py:2(generate_matrix)\n",
      "        1    0.001    0.001    0.919    0.919 {built-in method builtins.exec}\n",
      "        5    0.000    0.000    0.073    0.015 _methods.py:204(_std)\n",
      "        5    0.000    0.000    0.152    0.030 1948630586.py:10(compute_statistics)\n",
      "        5    0.000    0.000    0.047    0.009 _methods.py:101(_mean)\n",
      "        1    0.000    0.000    0.916    0.916 1948630586.py:22(example_function)\n",
      "        5    0.000    0.000    0.048    0.010 fromnumeric.py:3385(mean)\n",
      "       10    0.000    0.000    0.031    0.003 fromnumeric.py:71(_wrapreduction)\n",
      "        5    0.000    0.000    0.073    0.015 fromnumeric.py:3513(std)\n",
      "        5    0.000    0.000    0.000    0.000 contextlib.py:102(__init__)\n",
      "        5    0.000    0.000    0.018    0.004 fromnumeric.py:2692(max)\n",
      "        1    0.000    0.000    0.000    0.000 {method 'disable' of '_lsprof.Profiler' objects}\n",
      "       10    0.000    0.000    0.000    0.000 _ufunc_config.py:452(_no_nep50_warning)\n",
      "       15    0.000    0.000    0.000    0.000 {built-in method numpy.asanyarray}\n",
      "       10    0.000    0.000    0.000    0.000 {built-in method builtins.next}\n",
      "       10    0.000    0.000    0.000    0.000 fromnumeric.py:72(<dictcomp>)\n",
      "       20    0.000    0.000    0.000    0.000 {built-in method builtins.isinstance}\n",
      "        5    0.000    0.000    0.000    0.000 contextlib.py:279(helper)\n",
      "       20    0.000    0.000    0.000    0.000 {built-in method numpy.core._multiarray_umath.normalize_axis_index}\n",
      "        5    0.000    0.000    0.013    0.003 fromnumeric.py:2836(min)\n",
      "       20    0.000    0.000    0.000    0.000 {built-in method builtins.issubclass}\n",
      "        5    0.000    0.000    0.000    0.000 {method 'set' of '_contextvars.ContextVar' objects}\n",
      "        5    0.000    0.000    0.000    0.000 contextlib.py:139(__exit__)\n",
      "       15    0.000    0.000    0.000    0.000 {built-in method builtins.hasattr}\n",
      "        5    0.000    0.000    0.000    0.000 contextlib.py:130(__enter__)\n",
      "        5    0.000    0.000    0.000    0.000 {method 'reset' of '_contextvars.ContextVar' objects}\n",
      "       10    0.000    0.000    0.000    0.000 {method 'items' of 'dict' objects}\n",
      "        5    0.000    0.000    0.000    0.000 fromnumeric.py:3380(_mean_dispatcher)\n",
      "        5    0.000    0.000    0.000    0.000 {built-in method builtins.getattr}\n",
      "        5    0.000    0.000    0.000    0.000 multiarray.py:741(dot)\n",
      "        5    0.000    0.000    0.000    0.000 fromnumeric.py:2687(_max_dispatcher)\n",
      "        5    0.000    0.000    0.000    0.000 {method 'append' of 'list' objects}\n",
      "        5    0.000    0.000    0.000    0.000 fromnumeric.py:3508(_std_dispatcher)\n",
      "        5    0.000    0.000    0.000    0.000 fromnumeric.py:2831(_min_dispatcher)"
     ]
    }
   ],
   "source": [
    "%prun example_function()"
   ]
  },
  {
   "cell_type": "code",
   "execution_count": null,
   "metadata": {},
   "outputs": [
    {
     "name": "stdout",
     "output_type": "stream",
     "text": [
      "Timer unit: 1e-09 s\n",
      "\n",
      "Total time: 1.10195 s\n",
      "File: /tmp/ipykernel_117215/1948630586.py\n",
      "Function: example_function at line 22\n",
      "\n",
      "Line #      Hits         Time  Per Hit   % Time  Line Contents\n",
      "==============================================================\n",
      "    22                                           def example_function():\n",
      "    23                                           \n",
      "    24                                           \n",
      "    25                                               # Main computation\n",
      "    26         1        962.0    962.0      0.0      size = 2000\n",
      "    27         1        150.0    150.0      0.0      iterations = 5\n",
      "    28         1        190.0    190.0      0.0      stats = []\n",
      "    29         6     531844.0  88640.7      0.0      for _ in range(iterations):\n",
      "    30         5  235658396.0    5e+07     21.4          A = generate_matrix(size)\n",
      "    31         5  326289294.0    7e+07     29.6          B = generate_matrix(size)\n",
      "    32         5  403405517.0    8e+07     36.6          result = multiply_matrices(A, B)\n",
      "    33         5  136064089.0    3e+07     12.3          stats.append(compute_statistics(result))\n",
      "    34         1        591.0    591.0      0.0      return"
     ]
    }
   ],
   "source": [
    "# alternative way to call line profiler in jupyter notebook\n",
    "\n",
    "%load_ext line_profiler\n",
    "%lprun -f example_function example_function()"
   ]
  },
  {
   "cell_type": "code",
   "execution_count": 17,
   "metadata": {},
   "outputs": [
    {
     "name": "stdout",
     "output_type": "stream",
     "text": [
      "Timer unit: 1e-09 s\n",
      "\n",
      "Total time: 0.52819 s\n",
      "File: /tmp/ipykernel_117215/1948630586.py\n",
      "Function: generate_matrix at line 2\n",
      "\n",
      "Line #      Hits         Time  Per Hit   % Time  Line Contents\n",
      "==============================================================\n",
      "     2                                           def generate_matrix(size):\n",
      "     3                                               \"\"\"Generates a random matrix.\"\"\"\n",
      "     4        10  528189746.0    5e+07    100.0      return np.random.rand(size, size)\n",
      "\n",
      "Total time: 0.423728 s\n",
      "File: /tmp/ipykernel_117215/1948630586.py\n",
      "Function: multiply_matrices at line 6\n",
      "\n",
      "Line #      Hits         Time  Per Hit   % Time  Line Contents\n",
      "==============================================================\n",
      "     6                                           def multiply_matrices(A, B):\n",
      "     7                                               \"\"\"Performs matrix multiplication.\"\"\"\n",
      "     8         5  423727738.0    8e+07    100.0      return np.dot(A, B)\n",
      "\n",
      "Total time: 0.200685 s\n",
      "File: /tmp/ipykernel_117215/1948630586.py\n",
      "Function: compute_statistics at line 10\n",
      "\n",
      "Line #      Hits         Time  Per Hit   % Time  Line Contents\n",
      "==============================================================\n",
      "    10                                           def compute_statistics(matrix):\n",
      "    11                                               \"\"\"Computes some statistics on a matrix.\"\"\"\n",
      "    12         5   88626854.0    2e+07     44.2      mean = np.mean(matrix)\n",
      "    13         5   77903562.0    2e+07     38.8      std = np.std(matrix)\n",
      "    14         5   17868913.0    4e+06      8.9      max_val = np.max(matrix)\n",
      "    15         5   16270303.0    3e+06      8.1      min_val = np.min(matrix)\n",
      "    16         5      15069.0   3013.8      0.0      return {\"mean\": mean, \"std\": std, \"max\": max_val, \"min\": min_val}\n",
      "\n",
      "Total time: 1.15291 s\n",
      "File: /tmp/ipykernel_117215/1948630586.py\n",
      "Function: example_function at line 22\n",
      "\n",
      "Line #      Hits         Time  Per Hit   % Time  Line Contents\n",
      "==============================================================\n",
      "    22                                           def example_function():\n",
      "    23                                           \n",
      "    24                                           \n",
      "    25                                               # Main computation\n",
      "    26         1       2375.0   2375.0      0.0      size = 2000\n",
      "    27         1        190.0    190.0      0.0      iterations = 5\n",
      "    28         1        171.0    171.0      0.0      stats = []\n",
      "    29         6       7625.0   1270.8      0.0      for _ in range(iterations):\n",
      "    30         5  181206116.0    4e+07     15.7          A = generate_matrix(size)\n",
      "    31         5  347054848.0    7e+07     30.1          B = generate_matrix(size)\n",
      "    32         5  423830528.0    8e+07     36.8          result = multiply_matrices(A, B)\n",
      "    33         5  200811205.0    4e+07     17.4          stats.append(compute_statistics(result))\n",
      "    34         1        301.0    301.0      0.0      return"
     ]
    }
   ],
   "source": [
    "# calling all the nested functions in the example_function\n",
    "%lprun -f example_function -f generate_matrix -f multiply_matrices -f compute_statistics example_function()"
   ]
  },
  {
   "cell_type": "markdown",
   "metadata": {},
   "source": [
    "## Profiling a script"
   ]
  },
  {
   "cell_type": "markdown",
   "metadata": {},
   "source": [
    "You can profile any script directly in the terminal using simple commmands."
   ]
  },
  {
   "cell_type": "code",
   "execution_count": null,
   "metadata": {},
   "outputs": [
    {
     "name": "stdout",
     "output_type": "stream",
     "text": [
      "Writing example_module.py\n"
     ]
    }
   ],
   "source": [
    "%%file example_module.py\n",
    "# this is a magic command to save the content of the cell to a file\n",
    "# we create a module from the example_function which we can then profile\n",
    "\n",
    "import numpy as np\n",
    "\n",
    "\n",
    "# Helper functions\n",
    "def generate_matrix(size):\n",
    "    \"\"\"Generates a random matrix.\"\"\"\n",
    "    return np.random.rand(size, size)\n",
    "\n",
    "\n",
    "def multiply_matrices(A, B):\n",
    "    \"\"\"Performs matrix multiplication.\"\"\"\n",
    "    return np.dot(A, B)\n",
    "\n",
    "\n",
    "def compute_statistics(matrix):\n",
    "    \"\"\"Computes some statistics on a matrix.\"\"\"\n",
    "    mean = np.mean(matrix)\n",
    "    std = np.std(matrix)\n",
    "    max_val = np.max(matrix)\n",
    "    min_val = np.min(matrix)\n",
    "    return {\"mean\": mean, \"std\": std, \"max\": max_val, \"min\": min_val}\n",
    "\n",
    "\n",
    "# Example function to profile\n",
    "\n",
    "\n",
    "def example_function():\n",
    "    # Main computation\n",
    "    size = 2000\n",
    "    iterations = 5\n",
    "    stats = []\n",
    "    for _ in range(iterations):\n",
    "        A = generate_matrix(size)\n",
    "        B = generate_matrix(size)\n",
    "        result = multiply_matrices(A, B)\n",
    "        stats.append(compute_statistics(result))\n",
    "    return\n",
    "\n",
    "\n",
    "if __name__ == \"__main__\":\n",
    "    example_function()\n"
   ]
  },
  {
   "cell_type": "code",
   "execution_count": 19,
   "metadata": {},
   "outputs": [
    {
     "name": "stdout",
     "output_type": "stream",
     "text": [
      "Wrote profile results to example_module.py.lprof\n",
      "Inspect results with:\n",
      "python -m line_profiler -rmt \"example_module.py.lprof\"\n"
     ]
    }
   ],
   "source": [
    "# profile with\n",
    "!kernprof -l example_module.py \n",
    "# you can run this command in your command line directly without the !"
   ]
  },
  {
   "cell_type": "code",
   "execution_count": null,
   "metadata": {},
   "outputs": [
    {
     "name": "stdout",
     "output_type": "stream",
     "text": [
      "Timer unit: 1e-06 s\n",
      "\n"
     ]
    }
   ],
   "source": [
    "# look at output with:\n",
    "!python -m line_profiler example_module.py.lprof\n",
    "# to look at the output"
   ]
  },
  {
   "cell_type": "markdown",
   "metadata": {},
   "source": [
    "The output is empty!\n",
    "\n",
    "\n",
    "**ANY FUNCTION YOU WANT TO PROFILE MUST BE ANNOTATED WITH THE @profile decorator**\n",
    "\n",
    "... don't forget to remove the decorators once your done with profiling."
   ]
  },
  {
   "cell_type": "code",
   "execution_count": null,
   "metadata": {},
   "outputs": [
    {
     "name": "stdout",
     "output_type": "stream",
     "text": [
      "Overwriting example_module.py\n"
     ]
    }
   ],
   "source": [
    "%%file example_module.py\n",
    "# this is a magic command to save the content of the cell to a file\n",
    "# we create a module from the example_function which we can then profile\n",
    "\n",
    "import numpy as np\n",
    "\n",
    "\n",
    "# Helper functions\n",
    "def generate_matrix(size):\n",
    "    \"\"\"Generates a random matrix.\"\"\"\n",
    "    return np.random.rand(size, size)\n",
    "\n",
    "\n",
    "def multiply_matrices(A, B):\n",
    "    \"\"\"Performs matrix multiplication.\"\"\"\n",
    "    return np.dot(A, B)\n",
    "\n",
    "\n",
    "@profile\n",
    "def compute_statistics(matrix):\n",
    "    \"\"\"Computes some statistics on a matrix.\"\"\"\n",
    "    mean = np.mean(matrix)\n",
    "    std = np.std(matrix)\n",
    "    max_val = np.max(matrix)\n",
    "    min_val = np.min(matrix)\n",
    "    return {\"mean\": mean, \"std\": std, \"max\": max_val, \"min\": min_val}\n",
    "\n",
    "\n",
    "# Example function to profile\n",
    "\n",
    "\n",
    "@profile  # HERE\n",
    "def example_function():\n",
    "    # Main computation\n",
    "    size = 2000\n",
    "    iterations = 5\n",
    "    stats = []\n",
    "    for _ in range(iterations):\n",
    "        A = generate_matrix(size)\n",
    "        B = generate_matrix(size)\n",
    "        result = multiply_matrices(A, B)\n",
    "        stats.append(compute_statistics(result))\n",
    "    return\n",
    "\n",
    "\n",
    "if __name__ == \"__main__\":\n",
    "    example_function()\n"
   ]
  },
  {
   "cell_type": "code",
   "execution_count": 25,
   "metadata": {},
   "outputs": [
    {
     "name": "stdout",
     "output_type": "stream",
     "text": [
      "Wrote profile results to example_module.py.lprof\n",
      "Timer unit: 1e-06 s\n",
      "\n",
      "Total time: 0.168636 s\n",
      "File: example_module.py\n",
      "Function: compute_statistics at line 15\n",
      "\n",
      "Line #      Hits         Time  Per Hit   % Time  Line Contents\n",
      "==============================================================\n",
      "    15                                           @profile\n",
      "    16                                           def compute_statistics(matrix):\n",
      "    17                                               \"\"\"Computes some statistics on a matrix.\"\"\"\n",
      "    18         5      57405.4  11481.1     34.0      mean = np.mean(matrix)\n",
      "    19         5      84313.0  16862.6     50.0      std = np.std(matrix)\n",
      "    20         5      14084.0   2816.8      8.4      max_val = np.max(matrix)\n",
      "    21         5      12824.8   2565.0      7.6      min_val = np.min(matrix)\n",
      "    22         5          9.3      1.9      0.0      return {\"mean\": mean, \"std\": std, \"max\": max_val, \"min\": min_val}\n",
      "\n",
      "Total time: 1.08313 s\n",
      "File: example_module.py\n",
      "Function: example_function at line 29\n",
      "\n",
      "Line #      Hits         Time  Per Hit   % Time  Line Contents\n",
      "==============================================================\n",
      "    29                                           @profile # HERE\n",
      "    30                                           def example_function():\n",
      "    31                                               \n",
      "    32                                               # Main computation\n",
      "    33         1          1.5      1.5      0.0      size = 2000\n",
      "    34         1          0.2      0.2      0.0      iterations = 5\n",
      "    35         1          0.3      0.3      0.0      stats = []\n",
      "    36         6          4.9      0.8      0.0      for _ in range(iterations):\n",
      "    37         5     193536.3  38707.3     17.9          A = generate_matrix(size)\n",
      "    38         5     319017.8  63803.6     29.5          B = generate_matrix(size)\n",
      "    39         5     401647.6  80329.5     37.1          result = multiply_matrices(A, B)\n",
      "    40         5     168922.8  33784.6     15.6          stats.append(compute_statistics(result))\n",
      "    41         1          0.3      0.3      0.0      return \n",
      "\n"
     ]
    }
   ],
   "source": [
    "!kernprof -l -v example_module.py \n",
    "# !python -m line_profiler example_module.py.lprof"
   ]
  },
  {
   "cell_type": "markdown",
   "metadata": {},
   "source": [
    "# Memory Profiling"
   ]
  },
  {
   "cell_type": "markdown",
   "metadata": {},
   "source": [
    "To profile the memory usage of the function, you can use memory_profiler, also a third party package that you may install with pip\n",
    " "
   ]
  },
  {
   "cell_type": "code",
   "execution_count": 26,
   "metadata": {},
   "outputs": [
    {
     "name": "stdout",
     "output_type": "stream",
     "text": [
      "peak memory: 493.80 MiB, increment: 126.14 MiB\n"
     ]
    }
   ],
   "source": [
    "%load_ext memory_profiler\n",
    "\n",
    "# Profile overall memory usage\n",
    "%memit example_function()"
   ]
  },
  {
   "cell_type": "code",
   "execution_count": 27,
   "metadata": {},
   "outputs": [
    {
     "name": "stdout",
     "output_type": "stream",
     "text": [
      "peak memory: 494.01 MiB, increment: 121.87 MiB\n"
     ]
    }
   ],
   "source": [
    "%%memit # profil a block of code\n",
    "size = 2000\n",
    "iterations = 5\n",
    "A = np.random.rand(size, size)\n",
    "B = np.random.rand(size, size)\n",
    "result = np.dot(A, B)"
   ]
  },
  {
   "cell_type": "markdown",
   "metadata": {},
   "source": [
    "Like **lprun** with have **mprun** for memory profiling\n",
    "however, it only works with functions defined in separate files, not in the notebook so lets create a file with a function and profile it\n"
   ]
  },
  {
   "cell_type": "code",
   "execution_count": null,
   "metadata": {},
   "outputs": [
    {
     "name": "stdout",
     "output_type": "stream",
     "text": [
      "Writing mprun_demo.py\n"
     ]
    }
   ],
   "source": [
    "%%file mprun_demo.py\n",
    "# this cell magic writes the content of the cell to a file\n",
    "\n",
    "import numpy as np\n",
    "\n",
    "\n",
    "def matrix_factorization_example():\n",
    "    \"\"\"Performs matrix factorization and manipulation to showcase memory usage\"\"\"\n",
    "    size = 1500  # Use a large matrix size for better profiling visibility\n",
    "    num_iterations = 3\n",
    "\n",
    "    # Step 1: Initialize matrices\n",
    "    A = np.random.rand(size, size)  # Random matrix\n",
    "    B = np.random.rand(size, size)  # Random matrix\n",
    "    print(f\"Initial matrices created: {A.shape} and {B.shape}\")\n",
    "\n",
    "    # Step 2: Matrix multiplication and memory manipulation\n",
    "    for _ in range(num_iterations):\n",
    "        C = np.dot(A, B)  # Multiply matrices\n",
    "\n",
    "        # Step 3: Modify the result with deep copy and reshape operations\n",
    "        C_copy = C.copy()  # Deep copy to simulate an expensive operation\n",
    "        C_reshaped = C_copy.reshape(size * size)  # Flattening for manipulation\n",
    "        C_reshaped = C_reshaped + np.random.rand(size * size)  # Add random noise\n",
    "\n",
    "        # Step 4: Perform a computation that involves slicing and reshaping\n",
    "        C_sliced = C_reshaped[: int(size * size / 2)]  # Slice first half\n",
    "\n",
    "        # Step 5: Create a new matrix and add it to the original\n",
    "        D = np.random.rand(size, size)\n",
    "        C_result = (\n",
    "            C_sliced.reshape(size, size // 2) + D[:, : size // 2]\n",
    "        )  # Element-wise addition\n",
    "\n",
    "    # Final result\n",
    "    return C_result\n",
    "\n",
    "\n",
    "if __name__ == \"__main__\":\n",
    "    matrix_factorization_example()"
   ]
  },
  {
   "cell_type": "code",
   "execution_count": null,
   "metadata": {},
   "outputs": [
    {
     "name": "stdout",
     "output_type": "stream",
     "text": [
      "Initial matrices created: (1500, 1500) and (1500, 1500)\n",
      "\n"
     ]
    },
    {
     "name": "stdout",
     "output_type": "stream",
     "text": [
      "Filename: /users/maregger/PhD/Python_Tutorial/mprun_demo.py\n",
      "\n",
      "Line #    Mem usage    Increment  Occurences   Line Contents\n",
      "============================================================\n",
      "     6    492.9 MiB    492.9 MiB           1   def matrix_factorization_example():\n",
      "     7                                             \"\"\"Performs matrix factorization and manipulation to showcase memory usage\"\"\"\n",
      "     8    492.9 MiB      0.0 MiB           1       size = 1500  # Use a large matrix size for better profiling visibility\n",
      "     9    492.9 MiB      0.0 MiB           1       num_iterations = 3\n",
      "    10                                             \n",
      "    11                                             # Step 1: Initialize matrices\n",
      "    12    493.1 MiB      0.1 MiB           1       A = np.random.rand(size, size)  # Random matrix\n",
      "    13    510.1 MiB     17.1 MiB           1       B = np.random.rand(size, size)  # Random matrix\n",
      "    14    510.1 MiB      0.0 MiB           1       print(f\"Initial matrices created: {A.shape} and {B.shape}\")\n",
      "    15                                             \n",
      "    16                                             # Step 2: Matrix multiplication and memory manipulation\n",
      "    17    614.1 MiB      0.0 MiB           4       for _ in range(num_iterations):\n",
      "    18    614.1 MiB     51.6 MiB           3           C = np.dot(A, B)  # Multiply matrices\n",
      "    19                                                 \n",
      "    20                                                 # Step 3: Modify the result with deep copy and reshape operations\n",
      "    21    614.1 MiB     17.3 MiB           3           C_copy = C.copy()  # Deep copy to simulate an expensive operation\n",
      "    22    614.1 MiB      0.0 MiB           3           C_reshaped = C_copy.reshape(size * size)  # Flattening for manipulation\n",
      "    23    614.1 MiB     17.8 MiB           3           C_reshaped = C_reshaped + np.random.rand(size * size)  # Add random noise\n",
      "    24                                                 \n",
      "    25                                                 # Step 4: Perform a computation that involves slicing and reshaping\n",
      "    26    614.1 MiB      0.0 MiB           3           C_sliced = C_reshaped[:int(size * size / 2)]  # Slice first half\n",
      "    27                                                 \n",
      "    28                                                 # Step 5: Create a new matrix and add it to the original\n",
      "    29    614.1 MiB     17.3 MiB           3           D = np.random.rand(size, size)\n",
      "    30    614.1 MiB      0.0 MiB           3           C_result = C_sliced.reshape(size, size // 2) + D[:, :size // 2]  # Element-wise addition\n",
      "    31                                             \n",
      "    32                                             # Final result\n",
      "    33    614.1 MiB      0.0 MiB           1       return C_result"
     ]
    }
   ],
   "source": [
    "from mprun_demo import (\n",
    "    matrix_factorization_example,\n",
    ")  # now we can import our function and profile it\n",
    "\n",
    "%mprun -f matrix_factorization_example matrix_factorization_example()"
   ]
  },
  {
   "cell_type": "code",
   "execution_count": null,
   "metadata": {},
   "outputs": [
    {
     "name": "stdout",
     "output_type": "stream",
     "text": [
      "Initial matrices created: (1500, 1500) and (1500, 1500)\n",
      "[ Top 10 memory consumers ]\n",
      "/users/maregger/micromamba/envs/hailclass_exp/lib/python3.10/codeop.py:118: size=448 B, count=6, average=75 B\n",
      "/users/maregger/micromamba/envs/hailclass_exp/lib/python3.10/site-packages/zmq/sugar/attrsettr.py:44: size=330 B, count=6, average=55 B\n",
      "/users/maregger/micromamba/envs/hailclass_exp/lib/python3.10/site-packages/traitlets/traitlets.py:731: size=209 B, count=3, average=70 B\n",
      "/users/maregger/micromamba/envs/hailclass_exp/lib/python3.10/site-packages/traitlets/traitlets.py:1514: size=168 B, count=1, average=168 B\n",
      "/users/maregger/micromamba/envs/hailclass_exp/lib/python3.10/site-packages/ipykernel/iostream.py:286: size=168 B, count=1, average=168 B\n",
      "/users/maregger/micromamba/envs/hailclass_exp/lib/python3.10/site-packages/ipykernel/iostream.py:689: size=144 B, count=2, average=72 B\n",
      "/users/maregger/PhD/Python_Tutorial/mprun_demo.py:30: size=120 B, count=3, average=40 B\n",
      "/users/maregger/micromamba/envs/hailclass_exp/lib/python3.10/site-packages/IPython/core/interactiveshell.py:3517: size=112 B, count=1, average=112 B\n",
      "/users/maregger/micromamba/envs/hailclass_exp/lib/python3.10/site-packages/IPython/core/interactiveshell.py:3507: size=96 B, count=3, average=32 B\n",
      "/users/maregger/micromamba/envs/hailclass_exp/lib/python3.10/threading.py:313: size=88 B, count=2, average=44 B\n"
     ]
    }
   ],
   "source": [
    "# look at tracemalloc\n",
    "import tracemalloc\n",
    "\n",
    "# Start tracing memory allocations\n",
    "tracemalloc.start()\n",
    "\n",
    "matrix_factorization_example()\n",
    "\n",
    "# Take a snapshot\n",
    "snapshot = tracemalloc.take_snapshot()\n",
    "\n",
    "# create a large matrix that will use lots of ram\n",
    "large_matrix = np.random.rand(10000, 10000)\n",
    "\n",
    "# Take a second snapshot\n",
    "snapshot2 = tracemalloc.take_snapshot()\n",
    "\n",
    "\n",
    "# Analyze top memory consumers in snapshot 1\n",
    "top_stats = snapshot.statistics(\"lineno\")\n",
    "print(\"[ Top 10 memory consumers ]\")\n",
    "for stat in top_stats[:10]:\n",
    "    print(stat)\n",
    "\n",
    "# Stop tracing memory allocations\n",
    "tracemalloc.stop()\n",
    "\n",
    "# careful when using jupyter - it might use most of the memory."
   ]
  },
  {
   "cell_type": "code",
   "execution_count": null,
   "metadata": {},
   "outputs": [
    {
     "name": "stdout",
     "output_type": "stream",
     "text": [
      "Memory leak analysis saved to 'memory_leak_analysis.txt'\n"
     ]
    }
   ],
   "source": [
    "# Compare the snapshots\n",
    "stats1_vs_2 = snapshot2.compare_to(snapshot, \"lineno\")\n",
    "\n",
    "# Save the comparison results to a text file\n",
    "with open(\"memory_leak_analysis.txt\", \"w\") as f:\n",
    "    f.write(\"[ Memory usage increase from snapshot 1 to snapshot 2 ]\\n\")\n",
    "    for stat in stats1_vs_2[:10]:\n",
    "        f.write(f\"{stat}\\n\")\n",
    "\n",
    "    # Detailed traceback for the top memory consumers\n",
    "    f.write(\"\\n[ Detailed traceback for the top memory consumers ]\\n\")\n",
    "    for stat in stats1_vs_2[:1]:\n",
    "        f.write(\"\\n\".join(stat.traceback.format()) + \"\\n\")\n",
    "\n",
    "print(\"Memory leak analysis saved to 'memory_leak_analysis.txt'\")"
   ]
  },
  {
   "cell_type": "markdown",
   "metadata": {},
   "source": [
    "**Careful when using dask! It waits with executing any computation until you call compute() or save your output. This means all the resources will be used there...**"
   ]
  }
 ],
 "metadata": {
  "kernelspec": {
   "display_name": "Python 3",
   "language": "python",
   "name": "python3"
  },
  "language_info": {
   "codemirror_mode": {
    "name": "ipython",
    "version": 3
   },
   "file_extension": ".py",
   "mimetype": "text/x-python",
   "name": "python",
   "nbconvert_exporter": "python",
   "pygments_lexer": "ipython3",
   "version": "3.10.15"
  }
 },
 "nbformat": 4,
 "nbformat_minor": 2
}
