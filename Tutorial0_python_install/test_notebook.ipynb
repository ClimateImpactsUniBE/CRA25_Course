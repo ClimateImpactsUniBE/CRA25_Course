{
 "cells": [
  {
   "cell_type": "markdown",
   "metadata": {},
   "source": [
    "## Welcome to the Python Installation Test! 🚀\n",
    "\n",
    "Run each cell to verify your Python environment is working correctly. You can simply press the **Run All** button at the top of the notebook. Or you can run each cell individually using ctrl+enter (cmd+enter on Mac).\n",
    "\n",
    "If all the cells execute and no error messages appear you're good to go for the first tutorial!"
   ]
  },
  {
   "cell_type": "code",
   "execution_count": null,
   "metadata": {},
   "outputs": [],
   "source": [
    "# importing packages \n",
    "try:\n",
    "    import sys\n",
    "    import platform\n",
    "    import matplotlib.pyplot as plt\n",
    "    import numpy as np\n",
    "    import pandas as pd\n",
    "    import intake\n",
    "    from IPython.display import HTML, display\n",
    "    import time\n",
    "    print(\"✅ Module imports worked correctly!\")\n",
    "    print(f\"Python version: {sys.version}\")\n",
    "    print(f\"Running on: {platform.system()} {platform.release()}\")\n",
    "    print(f\"Python executable used: {sys.executable}\")\n",
    "except Exception as e:\n",
    "    print(f\"❌ Module imports failed: {e}\")\n",
    "    print(\"This may fail if you are not using the correct environment. \\nMake sure to use the 'cra_env' environment created by the setup script.\")"
   ]
  },
  {
   "cell_type": "code",
   "execution_count": null,
   "metadata": {},
   "outputs": [],
   "source": [
    "print(\"Testing Matplotlib...\")\n",
    "try:\n",
    "    plt.figure(figsize=(10, 4))\n",
    "    \n",
    "    # Generate a colorful sine wave\n",
    "    x = np.linspace(0, 10, 100)\n",
    "    y = np.sin(x)\n",
    "    \n",
    "    plt.plot(x, y, 'b-', linewidth=2)\n",
    "    plt.plot(x, np.cos(x), 'r-', linewidth=2)\n",
    "    plt.fill_between(x, 0, np.sin(x), alpha=0.2, color='blue')\n",
    "    plt.fill_between(x, 0, np.cos(x), alpha=0.2, color='red')\n",
    "    \n",
    "    plt.title(\"If you can see this colorful graph, Matplotlib is working!\", fontsize=14)\n",
    "    plt.grid(True, alpha=0.3)\n",
    "    plt.show()\n",
    "    \n",
    "    print(\"✅ Matplotlib is working correctly!\")\n",
    "except Exception as e:\n",
    "    print(f\"❌ Matplotlib error: {e}\")"
   ]
  },
  {
   "cell_type": "code",
   "execution_count": null,
   "metadata": {},
   "outputs": [],
   "source": [
    "print(\"Testing interactive display...\")\n",
    "try:\n",
    "    for i in range(5, 0, -1):\n",
    "        display(HTML(f\"<h2 style='color: {'green' if i > 3 else 'orange' if i > 1 else 'red'}'>Countdown: {i}</h2>\"))\n",
    "        time.sleep(0.5)\n",
    "        if i > 1:  # Don't clear the last message\n",
    "            from IPython.display import clear_output\n",
    "            clear_output(wait=True)\n",
    "    \n",
    "    display(HTML(\"\"\"\n",
    "    <div style=\"background-color:#d4edda; padding:20px; border-radius:10px; text-align:center\">\n",
    "        <h1 style=\"color:#155724\">🎉 Congratulations! 🎉</h1>\n",
    "        <h3>Your Python installation is working perfectly!</h3>\n",
    "        <p>You're all set to start coding amazing things!</p>\n",
    "    </div>\n",
    "    \"\"\"))\n",
    "    print(\"✅ Interactive displays are working correctly!\")\n",
    "except Exception as e:\n",
    "    print(f\"❌ Interactive display error: {e}\")"
   ]
  },
  {
   "cell_type": "markdown",
   "metadata": {},
   "source": [
    "# Bonus task: \n",
    "\n",
    "Can you install git and start your own git repository for the project? Have a look at the **git_intro.md** file."
   ]
  }
 ],
 "metadata": {
  "kernelspec": {
   "display_name": "Python 3 (ipykernel)",
   "language": "python",
   "name": "python3"
  },
  "language_info": {
   "codemirror_mode": {
    "name": "ipython",
    "version": 3
   },
   "file_extension": ".py",
   "mimetype": "text/x-python",
   "name": "python",
   "nbconvert_exporter": "python",
   "pygments_lexer": "ipython3",
   "version": "3.12.9"
  }
 },
 "nbformat": 4,
 "nbformat_minor": 4
}
