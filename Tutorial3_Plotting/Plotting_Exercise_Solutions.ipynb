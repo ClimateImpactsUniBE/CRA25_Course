{
 "cells": [
  {
   "cell_type": "markdown",
   "id": "a1475b05-428a-4e38-b8f6-19323caae4b3",
   "metadata": {},
   "source": [
    "# Solutions"
   ]
  },
  {
   "cell_type": "code",
   "execution_count": null,
   "id": "f3fb77e5-59bd-4bbc-b960-ee02fae18f08",
   "metadata": {},
   "outputs": [],
   "source": [
    "import numpy as np\n",
    "import xarray as xr\n",
    "import seaborn as sns\n",
    "import matplotlib.pyplot as plt\n",
    "import cartopy.crs as ccrs\n",
    "import cartopy.feature as cfeature"
   ]
  },
  {
   "cell_type": "code",
   "execution_count": null,
   "id": "35c90819-0b48-4af6-b974-fb0599860007",
   "metadata": {},
   "outputs": [],
   "source": [
    "# import netcdf file\n",
    "file_path = 'path/to/your/folder/TREFHT_EU_10-members_19701999_20702099.nc'\n",
    "ds1 = xr.open_dataset(file_path).load()"
   ]
  },
  {
   "cell_type": "markdown",
   "id": "c6423e98-1a23-4120-881e-21f9e59fa525",
   "metadata": {},
   "source": [
    "### Main Exercise"
   ]
  },
  {
   "cell_type": "code",
   "execution_count": null,
   "id": "3f7fd98b-6f94-40c8-be97-9075211bb623",
   "metadata": {},
   "outputs": [],
   "source": [
    "# select days to plot and put them into a list (here, I'm selecting a 6-day period in spring of member 'r6i1231p1f1')\n",
    "\n",
    "data_list = [ds1.TREFHT.sel(member_id='r6i1231p1f1',time='1985-03-28'),\n",
    "             ds1.TREFHT.sel(member_id='r6i1231p1f1',time='1985-03-29'),\n",
    "             ds1.TREFHT.sel(member_id='r6i1231p1f1',time='1985-03-31'),\n",
    "             ds1.TREFHT.sel(member_id='r6i1231p1f1',time='1985-04-01'),\n",
    "             ds1.TREFHT.sel(member_id='r6i1231p1f1',time='1985-04-02'),\n",
    "             ds1.TREFHT.sel(member_id='r6i1231p1f1',time='1985-04-03')]"
   ]
  },
  {
   "cell_type": "code",
   "execution_count": null,
   "id": "39c7ef96-015d-4c8f-a0f0-a78f25f6bdc4",
   "metadata": {},
   "outputs": [],
   "source": [
    "# plot\n",
    "sns.set(style='whitegrid', font_scale=1)\n",
    "projection=ccrs.PlateCarree()\n",
    "fig, axes = plt.subplots(nrows=2,ncols=3, figsize=(19,8),  dpi=100, subplot_kw=dict(projection=ccrs.PlateCarree())) # step 1 completed\n",
    "\n",
    "my_levels = [-14,-10,-6,-2,2,6,10,14]\n",
    "# or, a cleaner alternative\n",
    "my_levels = np.arange(-14, 15, 4)\n",
    "\n",
    "for ax, data in zip(axes.flat, data_list):\n",
    "    data_C = data - 273.15 # step 2 completed\n",
    "    p = data_C.plot(ax=ax, cmap='RdBu_r', levels=my_levels, add_colorbar=False) # try with data_C.plot.contourf() instead\n",
    "    ax.set_extent([3, 33, 54, 72], crs=ccrs.PlateCarree()) # step 3 completed\n",
    "    gl = ax.gridlines(crs=ccrs.PlateCarree(), draw_labels=True,\n",
    "                  linewidth=1, color='gray', alpha=0.6)    # step 4 completed\n",
    "    gl.top_labels= False\n",
    "    gl.right_labels = False\n",
    "    ax.coastlines(linestyles='-')\n",
    "    ax.add_feature(cfeature.BORDERS, linewidth=.5) # step 5 completed\n",
    "    ax.set_aspect(1.2) # optional - stretch maps in the vertical direction\n",
    "    ax.set_title(np.datetime_as_string(data.time.values.astype('datetime64[ns]'), unit='D'), fontsize=13) # some cosmetic change to give it a %Y-%m-%d format - step 6 completed\n",
    "\n",
    "plt.colorbar(p, ax=axes.flat, shrink=.9, label=\"temperature (°C)\", ticks=my_levels, orientation='vertical', pad=.04); # step 7 completed\n",
    "plt.suptitle('Absolute temperature over Scandinavia (Data: CESM2-LENS, member r6i1231p1f1)', fontsize=18, x=.45);"
   ]
  },
  {
   "cell_type": "markdown",
   "id": "b405ff87-4bb3-46cb-b12a-bc2ca173e32e",
   "metadata": {},
   "source": [
    "### Advanced exercise"
   ]
  },
  {
   "cell_type": "code",
   "execution_count": null,
   "id": "aef782f2-035b-4184-804e-8334d5a4d3fc",
   "metadata": {},
   "outputs": [],
   "source": [
    "import datetime as dt\n",
    "\n",
    "hist_DJF = ds1.TREFHT.sel(time=ds1.time.dt.month.isin([11,12,1]) & (ds1.time.dt.year >= 1970) & (ds1.time.dt.year <= 1999)) # select winter months and historical period\n",
    "fut_DJF  = ds1.TREFHT.sel(time=ds1.time.dt.month.isin([11,12,1]) & (ds1.time.dt.year >= 2070) & (ds1.time.dt.year <= 2099)) # select winter months and future scenario\n",
    "\n",
    "# select Iberian region and compute the mean in time\n",
    "hist_DJF_IB = hist_DJF.sel(lon=slice(-10,3.5),lat=slice(36,44)).mean(dim='time')\n",
    "fut_DJF_IB  = fut_DJF.sel(lon=slice(-10,3.5),lat=slice(36,44)).mean(dim='time')"
   ]
  },
  {
   "cell_type": "code",
   "execution_count": null,
   "id": "1756de5f-c49c-47df-a596-975d270b16ca",
   "metadata": {},
   "outputs": [],
   "source": [
    "hist_DJF_IB.values.flatten().mean()"
   ]
  },
  {
   "cell_type": "code",
   "execution_count": null,
   "id": "bb875f76-13ff-448e-b18a-a84df1234f33",
   "metadata": {},
   "outputs": [],
   "source": [
    "fig, axes = plt.subplots(ncols=2, nrows=1, figsize=(7.5,4.5))\n",
    "\n",
    "# plot boxplot\n",
    "box = axes[0].boxplot([hist_DJF_IB.values.flatten(), fut_DJF_IB.values.flatten()],\n",
    "                       labels=['hist','fut'],\n",
    "                       widths=0.5, patch_artist=True,\n",
    "                       showmeans=False, showfliers=True,\n",
    "                       medianprops={\"color\": \"gray\", \"linewidth\": 2},\n",
    "                       boxprops={\"edgecolor\": \"gray\",\n",
    "                                 \"linewidth\": 0.5, \"alpha\": 0.7},\n",
    "                       whiskerprops={\"color\": \"gray\", \"linewidth\": 1.5},\n",
    "                       capprops={\"color\": \"gray\", \"linewidth\": 1.5})\n",
    "box['boxes'][0].set_facecolor('#95c8c6')\n",
    "box['boxes'][1].set_facecolor('#93b8a7')\n",
    "axes[0].set_ylim(278,295);\n",
    "axes[0].set_ylabel('Temperature (K)')\n",
    "\n",
    "# plot histogram\n",
    "axes[1].hist([hist_DJF_IB.values.flatten(), fut_DJF_IB.values.flatten()],\n",
    "             color=['#95c8c6','#93b8a7'], edgecolor='gray', bins=15, histtype=\"stepfilled\",\n",
    "             density=True, alpha=.7)\n",
    "sns.kdeplot(hist_DJF_IB.values.flatten(), color='#72aba9', ax=axes[1], lw=3)\n",
    "sns.kdeplot(fut_DJF_IB.values.flatten(), color='#93b8a7', ax=axes[1], lw=3)\n",
    "\n",
    "# calculate and plot mean of distribution\n",
    "hist_mean = hist_DJF_IB.values.flatten().mean()\n",
    "fut_mean  = fut_DJF_IB.values.flatten().mean()\n",
    "axes[1].axvline(hist_mean, c='#40706f', linestyle='--', linewidth=2)\n",
    "axes[1].axvline(fut_mean, c='#5c806f', linestyle='--', linewidth=2)\n",
    "plt.text(276, .145, f'historical - future = +{fut_mean - hist_mean:.1f} K', fontsize=11,\n",
    "        bbox=dict(facecolor='white', edgecolor='lightgray', boxstyle='round'))\n",
    "axes[1].set_ylim(0,0.16);\n",
    "\n",
    "# add title\n",
    "plt.suptitle('Winter near-surface temperatures (K) over the Iberian Peninsula\\n' +\n",
    "             'historical (1970-1999) vs. future (2070-2099)\\nData: CESM2-LENS', fontsize=16);\n",
    "\n",
    "fig.tight_layout()"
   ]
  },
  {
   "cell_type": "markdown",
   "id": "6a09e78e-a341-487c-ac01-b5e43fbfd940",
   "metadata": {},
   "source": [
    "There's a lot going on in this plot to give it this final look, not all of which was covered in the course.\n",
    "\n",
    "Some of it could have no doubt been done better, in a more efficient and elegant way.\n",
    "\n",
    "But it also serves to demonstrate how many small tweaks can be needed to get the visualisation *just* the way you want it!"
   ]
  }
 ],
 "metadata": {
  "kernelspec": {
   "display_name": "duncenv",
   "language": "python",
   "name": "duncenv"
  },
  "language_info": {
   "codemirror_mode": {
    "name": "ipython",
    "version": 3
   },
   "file_extension": ".py",
   "mimetype": "text/x-python",
   "name": "python",
   "nbconvert_exporter": "python",
   "pygments_lexer": "ipython3",
   "version": "3.10.9"
  }
 },
 "nbformat": 4,
 "nbformat_minor": 5
}
