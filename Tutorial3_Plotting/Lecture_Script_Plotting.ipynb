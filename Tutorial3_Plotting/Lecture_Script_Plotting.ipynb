{
 "cells": [
  {
   "cell_type": "markdown",
   "metadata": {},
   "source": [
    "`Aim:` *Notebook for the purpose of Climate Risk Assessment lecture on* `Plotting`\n",
    "\n",
    "`Authors:` Duncan Pappert (originally conceived by Mubashshir ali)"
   ]
  },
  {
   "cell_type": "markdown",
   "metadata": {},
   "source": [
    "Sections 1, 3 and 5 are the lenghtiest and require more time.\n",
    "\n",
    "The exercise is at the bottom of the page in Section 10."
   ]
  },
  {
   "cell_type": "markdown",
   "metadata": {
    "tags": []
   },
   "source": [
    "# Imports"
   ]
  },
  {
   "cell_type": "code",
   "execution_count": null,
   "metadata": {
    "ExecuteTime": {
     "end_time": "2020-02-17T14:54:36.300750Z",
     "start_time": "2020-02-17T14:54:35.523804Z"
    }
   },
   "outputs": [],
   "source": [
    "# importing libraries as an alias so that we know which function belongs to which library\n",
    "from IPython.display import Image\n",
    "import matplotlib.pyplot as plt\n",
    "import numpy as np"
   ]
  },
  {
   "cell_type": "markdown",
   "metadata": {
    "jp-MarkdownHeadingCollapsed": true,
    "tags": []
   },
   "source": [
    "# Plotting a simple canvas"
   ]
  },
  {
   "cell_type": "markdown",
   "metadata": {},
   "source": [
    "Let's first plot a simple canvas on which we will draw figures later-on"
   ]
  },
  {
   "cell_type": "code",
   "execution_count": null,
   "metadata": {
    "ExecuteTime": {
     "end_time": "2020-02-17T14:54:47.344926Z",
     "start_time": "2020-02-17T14:54:46.801011Z"
    }
   },
   "outputs": [],
   "source": [
    "fig = plt.figure()\n",
    "ax = plt.axes()"
   ]
  },
  {
   "cell_type": "markdown",
   "metadata": {},
   "source": [
    "You can use `shift` + `tab` key to view the syntax of a function and other options it provides. Test it below."
   ]
  },
  {
   "cell_type": "code",
   "execution_count": null,
   "metadata": {
    "ExecuteTime": {
     "end_time": "2020-02-17T14:54:49.218054Z",
     "start_time": "2020-02-17T14:54:49.204533Z"
    }
   },
   "outputs": [],
   "source": [
    "plt.figure();"
   ]
  },
  {
   "cell_type": "markdown",
   "metadata": {},
   "source": [
    "Now, let's plot a simple function, the classical `sine` curve example"
   ]
  },
  {
   "cell_type": "code",
   "execution_count": null,
   "metadata": {
    "ExecuteTime": {
     "end_time": "2020-02-17T14:54:50.952724Z",
     "start_time": "2020-02-17T14:54:50.679513Z"
    }
   },
   "outputs": [],
   "source": [
    "# create an array of points\n",
    "x = np.linspace(0, 20, 1000) # use shift + tab to see the syntax\n",
    "y = np.sin(x) # our function\n",
    "\n",
    "# lets create our canvas as we did above\n",
    "fig = plt.figure()\n",
    "# add axes\n",
    "ax = plt.axes()\n",
    "ax.plot(x, y)"
   ]
  },
  {
   "cell_type": "markdown",
   "metadata": {},
   "source": [
    "This could also be plotted lazily in just one line..."
   ]
  },
  {
   "cell_type": "code",
   "execution_count": null,
   "metadata": {
    "ExecuteTime": {
     "end_time": "2020-02-17T14:54:57.532616Z",
     "start_time": "2020-02-17T14:54:57.313124Z"
    }
   },
   "outputs": [],
   "source": [
    "plt.plot(x, np.sin(x))"
   ]
  },
  {
   "cell_type": "markdown",
   "metadata": {
    "tags": []
   },
   "source": [
    "## Making nicer plots with seaborn"
   ]
  },
  {
   "cell_type": "code",
   "execution_count": null,
   "metadata": {
    "ExecuteTime": {
     "end_time": "2020-02-17T14:55:07.075332Z",
     "start_time": "2020-02-17T14:55:05.622350Z"
    }
   },
   "outputs": [],
   "source": [
    "import seaborn as sns\n",
    "sns.set(style='whitegrid') # sets default plotting styles, check contextual help for more options"
   ]
  },
  {
   "cell_type": "markdown",
   "metadata": {},
   "source": [
    "**Same plot as above**"
   ]
  },
  {
   "cell_type": "code",
   "execution_count": null,
   "metadata": {
    "ExecuteTime": {
     "end_time": "2020-02-17T14:55:12.682356Z",
     "start_time": "2020-02-17T14:55:12.447822Z"
    }
   },
   "outputs": [],
   "source": [
    "plt.plot(x, np.sin(x)) # see aesthetic difference with previous plot?"
   ]
  },
  {
   "cell_type": "markdown",
   "metadata": {
    "tags": []
   },
   "source": [
    "## Plotting multiple lines"
   ]
  },
  {
   "cell_type": "code",
   "execution_count": null,
   "metadata": {
    "ExecuteTime": {
     "end_time": "2020-02-17T14:55:19.771619Z",
     "start_time": "2020-02-17T14:55:19.430797Z"
    }
   },
   "outputs": [],
   "source": [
    "# lets do the lazy plotting of multiple lines\n",
    "plt.plot(x, np.sin(x))\n",
    "plt.plot(x, np.cos(x))"
   ]
  },
  {
   "cell_type": "markdown",
   "metadata": {},
   "source": [
    "Note that matplotlib automatically assigned different colours. Pretty smart, right? What if you don't like those colours? Let's see how we can customize it..."
   ]
  },
  {
   "cell_type": "markdown",
   "metadata": {
    "tags": []
   },
   "source": [
    "## Adjusting colors and linestyles"
   ]
  },
  {
   "cell_type": "code",
   "execution_count": null,
   "metadata": {
    "ExecuteTime": {
     "end_time": "2020-02-17T14:55:21.956319Z",
     "start_time": "2020-02-17T14:55:21.670091Z"
    }
   },
   "outputs": [],
   "source": [
    "plt.plot(x, np.sin(x - 0), color='blue', linestyle='-', linewidth=4) # specify color by name and make line thicker\n",
    "plt.plot(x, np.sin(x - 1), color='g', linestyle='--')           # short color code (rgbcmyk)\n",
    "plt.plot(x, np.sin(x - 2), color='0.75', linestyle='-.')        # grayscale between 0 and 1\n",
    "plt.plot(x, np.sin(x - 3), color='#FFDD44', linestyle=':')     # hex code (RRGGBB from 00 to FF)\n",
    "plt.plot(x, np.sin(x - 4), color=(1.0,0.2,0.3)) # RGB tuple, values 0 and 1\n",
    "plt.plot(x, np.sin(x - 5), color='chartreuse'); # all HTML color names supported"
   ]
  },
  {
   "cell_type": "markdown",
   "metadata": {},
   "source": [
    "**Homework Task:** Find a website with a list of HTML color names"
   ]
  },
  {
   "cell_type": "markdown",
   "metadata": {
    "tags": []
   },
   "source": [
    "##  Figure elements and Aesthetics "
   ]
  },
  {
   "cell_type": "code",
   "execution_count": null,
   "metadata": {},
   "outputs": [],
   "source": [
    "Image(url=\"https://matplotlib.org/_images/sphx_glr_anatomy_001.png\")"
   ]
  },
  {
   "cell_type": "markdown",
   "metadata": {},
   "source": [
    "This figure is very important. Different parts of a figure with axes have a specific terminology.\\\n",
    "Familiorising yourself with these terms and commands will be helpful to take your plot customisation to the next level."
   ]
  },
  {
   "cell_type": "code",
   "execution_count": null,
   "metadata": {},
   "outputs": [],
   "source": [
    "# customize our plot by controlling some figure elements\n",
    "\n",
    "x = np.linspace(0, 10, 1000) \n",
    "y1 = np.sin(x) # our function\n",
    "y2 = np.cos(x)\n",
    "\n",
    "# lets create our canvas as we did above\n",
    "fig = plt.figure(figsize=(8,8))\n",
    "# adding axis. For multiple plots add another axis separately\n",
    "ax = fig.add_subplot(1,1,1, aspect=1) # rows, columns, number\n",
    "\n",
    "ax.plot(x, y1, label='sin(x)')\n",
    "ax.plot(x, y2, label='cos(x)') \n",
    "ax.set_title('My Plot', fontsize=14)\n",
    "\n",
    "# tweaking minor parameters to our liking\n",
    "ax.set(xlim=(0,8), ylim=(-1.5,1.5), xticks=np.arange(0,8.1, 2))\n",
    "ax.legend()\n",
    "ax.grid(linestyle=\"--\", linewidth=0.5, color='.25', zorder=-10)\n",
    "sns.despine(ax=ax)\n",
    "\n",
    "# comment out the 4 lines of code above to see the difference!\n",
    "# tip: select the desired lines of code and press \"Ctrl + /\""
   ]
  },
  {
   "cell_type": "code",
   "execution_count": null,
   "metadata": {},
   "outputs": [],
   "source": [
    "sns.set(style='darkgrid', font_scale=1.5)"
   ]
  },
  {
   "cell_type": "code",
   "execution_count": null,
   "metadata": {},
   "outputs": [],
   "source": [
    "# customize our plot by controlling some figure elements\n",
    "\n",
    "plt.plot(x, np.sin(x))\n",
    "plt.plot(x, np.cos(x))"
   ]
  },
  {
   "cell_type": "markdown",
   "metadata": {},
   "source": [
    "[More examples on controlling figure aesthetics](https://seaborn.pydata.org/tutorial/aesthetics.html)"
   ]
  },
  {
   "cell_type": "markdown",
   "metadata": {
    "tags": []
   },
   "source": [
    "# Boxplots"
   ]
  },
  {
   "cell_type": "markdown",
   "metadata": {},
   "source": [
    "Boxplots are used to show distributions of numeric data values, especially when you want to compare them between multiple groups."
   ]
  },
  {
   "cell_type": "code",
   "execution_count": null,
   "metadata": {},
   "outputs": [],
   "source": [
    "# make data:\n",
    "D = np.random.normal(loc=(3, 5, 4), scale=(0.75, 1.00, 1.25), size=(50, 3))\n",
    "# randomly draws samples from a normal (Gaussian) distribution\n",
    "# \"loc\" is the mean ('centre') of the distribution\n",
    "# \"scale\" standard deviation ('spread') of the distribution\n",
    "# \"size\" is the shape of output (in this case a 50 by 3 matrix)\n",
    "\n",
    "# this data is for illustration purposes\n",
    "# realistically, you would have your own data to plot and you don't get to choose these paramters\n",
    "\n",
    "# plot\n",
    "fig, ax = plt.subplots(figsize=(3,4))\n",
    "VP = ax.boxplot(D, positions=[2, 4, 6], widths=1.4, patch_artist=True,\n",
    "                showmeans=False, showfliers=False, # decide not to show means or so-called fliers\n",
    "                medianprops={\"color\": \"white\", \"linewidth\": 0.5}, # change properties of median\n",
    "                boxprops={\"facecolor\": \"C0\", \"edgecolor\": \"white\", # change properties of IQR box\n",
    "                          \"linewidth\": 0.5},\n",
    "                whiskerprops={\"color\": \"C0\", \"linewidth\": 1.5}, #change properties of whiskers\n",
    "                capprops={\"color\": \"C0\", \"linewidth\": 1.5}) # change properties of caps\n",
    "\n",
    "ax.set(xlim=(0, 8), xticks=np.arange(1, 8), xticklabels=['','B1','','B2','','B3',''], xlabel='X axis', # specific customisation\n",
    "       ylim=(0, 8), yticks=np.arange(1, 8), ylabel='Y axis')\n",
    "ax.axhline(3.8, c='k', linestyle='--', linewidth=0.7) # line of code to add horizontal lines\n",
    "# ax.axvline(1, c='red', linestyle='-.', linewidth=1.7) # line of code to add vertical lines\n",
    "\n",
    "plt.show()"
   ]
  },
  {
   "cell_type": "markdown",
   "metadata": {},
   "source": [
    "[More plot types can be found here](https://matplotlib.org/stable/plot_types/index.html)\n",
    "\n",
    "- Pairwise data\n",
    "- Statistical distributions\n",
    "- Gridded data\n",
    "\n",
    "etc."
   ]
  },
  {
   "cell_type": "code",
   "execution_count": null,
   "metadata": {},
   "outputs": [],
   "source": [
    "# changed seaborn theme to ticks\n",
    "# I personally prefer it for geographic plotting\n",
    "# feel free to play around\n",
    "sns.set(style='ticks')"
   ]
  },
  {
   "cell_type": "markdown",
   "metadata": {
    "jp-MarkdownHeadingCollapsed": true,
    "tags": []
   },
   "source": [
    "# Geographic plotting"
   ]
  },
  {
   "cell_type": "markdown",
   "metadata": {},
   "source": [
    "So far we have seen plots in the Cartesian coordinate system(x-y). Python also provides powerful libraries such as `Cartopy` to enable geographic plotting on lat-lon coordinates. "
   ]
  },
  {
   "cell_type": "markdown",
   "metadata": {},
   "source": [
    "Let's import the libary as an alias"
   ]
  },
  {
   "cell_type": "code",
   "execution_count": null,
   "metadata": {},
   "outputs": [],
   "source": [
    "import cartopy.crs as ccrs # for geographic plotting\n",
    "import cartopy.feature as cfeature"
   ]
  },
  {
   "cell_type": "markdown",
   "metadata": {},
   "source": [
    "Let's plot a simple map"
   ]
  },
  {
   "cell_type": "code",
   "execution_count": null,
   "metadata": {},
   "outputs": [],
   "source": [
    "fig = plt.figure(figsize=[6,6])\n",
    "# What are the units of the figure size? Try to find out.\n",
    "#\n",
    "# Geographic maps can have different projection systems.  \n",
    "# Now, we will specify that we want the axes of our figure in PlateCarree projection.\n",
    "# We won't go into details of projection, but know that there are several out there...\n",
    "ax = plt.axes(projection=ccrs.PlateCarree())"
   ]
  },
  {
   "cell_type": "markdown",
   "metadata": {},
   "source": [
    "Oops! That doesn't look like the map we imagined. So, lets add ocean and land to our geograhical map. We can do that by calling `ax.add_feature()` ."
   ]
  },
  {
   "cell_type": "code",
   "execution_count": null,
   "metadata": {
    "ExecuteTime": {
     "end_time": "2020-02-05T15:50:09.084629Z",
     "start_time": "2020-02-05T15:50:08.083793Z"
    }
   },
   "outputs": [],
   "source": [
    "fig = plt.figure(figsize=[8,6])\n",
    "ax = plt.axes(projection=ccrs.PlateCarree())\n",
    "\n",
    "ax.add_feature(cfeature.LAND)\n",
    "ax.add_feature(cfeature.OCEAN)\n",
    "ax.add_feature(cfeature.COASTLINE)\n",
    "ax.set_global()"
   ]
  },
  {
   "cell_type": "markdown",
   "metadata": {},
   "source": [
    "## Adding more features"
   ]
  },
  {
   "cell_type": "markdown",
   "metadata": {},
   "source": [
    "We can also add features like country borders, rivers, lakes, etc."
   ]
  },
  {
   "cell_type": "code",
   "execution_count": null,
   "metadata": {
    "ExecuteTime": {
     "end_time": "2020-02-05T15:50:19.744666Z",
     "start_time": "2020-02-05T15:50:19.142058Z"
    }
   },
   "outputs": [],
   "source": [
    "fig = plt.figure(figsize=[8,8])\n",
    "ax = plt.axes(projection=ccrs.PlateCarree())\n",
    "\n",
    "ax.set_extent([-10, 90, 0, 70]) \n",
    "\n",
    "# add features\n",
    "ax.add_feature(cfeature.LAND)\n",
    "ax.add_feature(cfeature.OCEAN)\n",
    "ax.add_feature(cfeature.COASTLINE)\n",
    "ax.add_feature(cfeature.BORDERS, linestyle=':')\n",
    "ax.add_feature(cfeature.LAKES, alpha=0.5)\n",
    "ax.add_feature(cfeature.RIVERS)\n",
    "\n",
    "# grid lines\n",
    "gridlines = ax.gridlines(draw_labels=True, linewidth=0.5)\n",
    "gridlines.top_labels=False\n",
    "gridlines.right_labels=False\n",
    "\n",
    "## Note: Normal labeling doesn't work as Cartopy's labeling takeover the matplotlib commands\n",
    "# ax.set_xlabel('longitude')\n",
    "# ax.set_ylabel('latitude')\n",
    "\n",
    "\n",
    "# Here is a work around\n",
    "ax.text(-0.08, 0.55, 'latitude', va='bottom', ha='center',\n",
    "        rotation='vertical', rotation_mode='anchor',\n",
    "        transform=ax.transAxes)\n",
    "ax.text(0.5, -0.1, 'longitude', va='bottom', ha='center',\n",
    "        rotation='horizontal', rotation_mode='anchor',\n",
    "        transform=ax.transAxes)\n",
    "\n"
   ]
  },
  {
   "cell_type": "markdown",
   "metadata": {},
   "source": [
    "### Drawing gridlines at only specific points and some additional gridline controls\n",
    "\n",
    "For additional control over gridlines, e.g. fontsize, colour, etc."
   ]
  },
  {
   "cell_type": "code",
   "execution_count": null,
   "metadata": {},
   "outputs": [],
   "source": [
    "import matplotlib.ticker as mticker\n",
    "from cartopy.mpl.ticker import (LongitudeFormatter, LatitudeFormatter,\n",
    "                                LatitudeLocator)"
   ]
  },
  {
   "cell_type": "code",
   "execution_count": null,
   "metadata": {},
   "outputs": [],
   "source": [
    "fig = plt.figure(figsize=[8,8])\n",
    "ax = plt.axes(projection=ccrs.PlateCarree())\n",
    "ax.set_extent([-10, 90, 0, 70]) \n",
    "ax.add_feature(cfeature.COASTLINE)\n",
    "\n",
    "gridlines = ax.gridlines(crs=ccrs.PlateCarree(), # projection info is needed if you plot in different projections\n",
    "                                                # not needed for our use case\n",
    "                         draw_labels=True, linewidth=2, color='gray', alpha=0.5, linestyle='--'\n",
    "                        )\n",
    "gridlines.top_labels=False\n",
    "gridlines.right_labels=False\n",
    "\n",
    "gridlines.xlocator = mticker.FixedLocator([0, 40, 80])\n",
    "gridlines.ylocator = mticker.FixedLocator([10, 30, 50])\n",
    "gridlines.xformatter = LongitudeFormatter() # check out syntax using Contextual help for more info\n",
    "gridlines.yformatter = LatitudeFormatter()\n",
    "gridlines.xlabel_style = {'size': 15, 'color': 'red', 'weight': 'bold'}"
   ]
  },
  {
   "cell_type": "markdown",
   "metadata": {},
   "source": [
    "So far we have used the default PlateCarree projection of cartopy. But this package offers [many more types of cool projections](https://scitools.org.uk/cartopy/docs/v0.15/crs/projections.html)!\n",
    "\n",
    "Once you get more familiar with the cartopy syntax for geographical plotting, feel free to play around with other projections (though this is beyond the scope of the current lecture)."
   ]
  },
  {
   "cell_type": "code",
   "execution_count": null,
   "metadata": {},
   "outputs": [],
   "source": [
    "# example\n",
    "fig = plt.figure(figsize=[8,6])\n",
    "ax = plt.axes(projection=ccrs.Orthographic(central_longitude=90.0, central_latitude=0.0)) # play around with these lat and lon values to understand what they do\n",
    "\n",
    "ax.add_feature(cfeature.LAND)\n",
    "ax.add_feature(cfeature.OCEAN)\n",
    "ax.add_feature(cfeature.COASTLINE)\n",
    "ax.set_global()\n",
    "\n",
    "# what happens when I set extents?\n",
    "# try out the following lines (individually!)\n",
    "# ax.set_extent([0, 90, 0, 90])\n",
    "# ax.set_extent([90, 180, 0, -90])"
   ]
  },
  {
   "cell_type": "markdown",
   "metadata": {
    "tags": []
   },
   "source": [
    "## Plotting NetCDF file"
   ]
  },
  {
   "cell_type": "markdown",
   "metadata": {},
   "source": [
    "### Quick Recap "
   ]
  },
  {
   "cell_type": "code",
   "execution_count": null,
   "metadata": {
    "ExecuteTime": {
     "end_time": "2020-02-17T14:58:50.084785Z",
     "start_time": "2020-02-17T14:58:50.074595Z"
    }
   },
   "outputs": [],
   "source": [
    "Image(url='http://xarray.pydata.org/en/stable/_images/dataset-diagram.png')"
   ]
  },
  {
   "cell_type": "code",
   "execution_count": null,
   "metadata": {},
   "outputs": [],
   "source": [
    "import xarray as xr # library to work with climate model data format\n",
    "\n",
    "# file to be plotted\n",
    "file1 = 'path/to/your/folder/TREFHT_EU_10-members_19701999_20702099.nc'\n",
    "# this files has 4 dimensions: member_id, time, longitude, latitude\n",
    "\n",
    "# this particular netcdf contains 10 free runs of the same model initialised at different periods\n",
    "# it contains temperature; the resolution is daily; the file only covers the European domain\n",
    "# the time dimension covers a historical periods (1970-1999) and a future scenario under SSP370 (2070-2099)\n",
    "\n",
    "# let's load the dataset into memory by using open_dataset function of xarray \n",
    "ds1 = xr.open_dataset(file1).load()"
   ]
  },
  {
   "cell_type": "code",
   "execution_count": null,
   "metadata": {},
   "outputs": [],
   "source": [
    "ds1 # by running the xarray dataset on its own, we get an overview of its structure and content"
   ]
  },
  {
   "cell_type": "code",
   "execution_count": null,
   "metadata": {},
   "outputs": [],
   "source": [
    "ds1.TREFHT # select variable\n",
    "# TREFHT stands for Temperature at Reference Height\n",
    "# essentially: near-surface temperature"
   ]
  },
  {
   "cell_type": "code",
   "execution_count": null,
   "metadata": {},
   "outputs": [],
   "source": [
    "# list the names of the members\n",
    "ds1.TREFHT.member_id"
   ]
  },
  {
   "cell_type": "markdown",
   "metadata": {},
   "source": [
    "Most xarray datasets have coordinates 'time', 'latitude', 'longitude' (as can be seen above).\n",
    "\n",
    "In the case of this file we have an additional coordinate 'member_id', each representing a different run of the simulation.\n",
    "\n",
    "The indexing follows this logic. See below."
   ]
  },
  {
   "cell_type": "code",
   "execution_count": null,
   "metadata": {},
   "outputs": [],
   "source": [
    "# quick temporal visualisation of specific grid point\n",
    "\n",
    "ds1.TREFHT[0,:,20,10].plot() # play around with the index values; do you see what changes?\n",
    "\n",
    "# for the selection of specific lon/lat slices, see later"
   ]
  },
  {
   "cell_type": "code",
   "execution_count": null,
   "metadata": {},
   "outputs": [],
   "source": [
    "# we can use datetime to select only the historical period in ds1 usin the .sel() function\n",
    "hist_ds1 = ds1.sel(time=slice('1970','1999'))\n",
    "\n",
    "# plot same indices as in the previous cell\n",
    "hist_ds1.TREFHT[0,:,20,10].plot()"
   ]
  },
  {
   "cell_type": "code",
   "execution_count": null,
   "metadata": {},
   "outputs": [],
   "source": [
    "ds1.TREFHT[9,2500:4500,10,40].plot()\n",
    "\n",
    "# here we have selected from the original data array:\n",
    "# the 10th member (9th position in python index terms),\n",
    "# the timesteps from index positions 2500 to 4500 (so, 2000 timesteps total),\n",
    "# at latitude 40.05°N (10th index position) and longitude 30°E (40th index position)"
   ]
  },
  {
   "cell_type": "markdown",
   "metadata": {},
   "source": [
    "Now, onto spatial plotting!"
   ]
  },
  {
   "cell_type": "code",
   "execution_count": null,
   "metadata": {
    "ExecuteTime": {
     "end_time": "2020-02-17T15:02:38.961080Z",
     "start_time": "2020-02-17T15:02:38.078586Z"
    }
   },
   "outputs": [],
   "source": [
    "data_to_plot = ds1.TREFHT.sel(member_id='r1i1001p1f1', time='1991-07-29')\n",
    "data_to_plot.plot()"
   ]
  },
  {
   "cell_type": "markdown",
   "metadata": {},
   "source": [
    "Most of the time we need more control to make plots for publication quality. So, now we're going to have a look as to how we can control more aspects of our plot rather than letting `xarray` do it for us. We will try to stick with `xarray's` easy plotting method as much as possible; that means, letting it choose most of the things for us. But, we will add more details wherever required to make the plot fit to our needs."
   ]
  },
  {
   "cell_type": "code",
   "execution_count": null,
   "metadata": {
    "ExecuteTime": {
     "end_time": "2019-06-21T13:58:02.428970Z",
     "start_time": "2019-06-21T13:58:01.714863Z"
    }
   },
   "outputs": [],
   "source": [
    "fig = plt.figure(figsize=(9, 5))\n",
    "ax = plt.axes(projection=ccrs.PlateCarree())\n",
    "\n",
    "\n",
    "# now we're going to tell xarray that we want contourf plot specifically! (contourf stands for CONTOUR FILL!)\n",
    "\n",
    "data_to_plot.plot.contourf(ax=ax, transform=ccrs.PlateCarree())\n",
    "# transform means we're telling projection of our data to cartopy, not important at this stage\n",
    "# data we use here is by default in PlateCarree(lat, lon)\n",
    "\n",
    "ax.add_feature(cfeature.COASTLINE, linestyle='-')\n",
    "ax.add_feature(cfeature.BORDERS, linestyle='-', linewidth=.5)\n",
    "\n",
    "# setting the title\n",
    "\n",
    "ax.set_title('Near Surface Temperature on 1991-07-29');\n"
   ]
  },
  {
   "cell_type": "markdown",
   "metadata": {
    "solution2": "hidden"
   },
   "source": [
    "If no colour palette is specified, matplotlib will automatically assign the 'viridis' colormap (see blue-to-yellow colours above).\n",
    "\n",
    "[Click here for more colorbar options](https://matplotlib.org/users/colormaps.html)"
   ]
  },
  {
   "cell_type": "markdown",
   "metadata": {
    "tags": []
   },
   "source": [
    "## Levels"
   ]
  },
  {
   "cell_type": "markdown",
   "metadata": {},
   "source": [
    "Lets say we want to see really small temperature variations and thus, we would like to divide our color bar into smaller segments. For that one could just use `levels` arguments. Of course, one can also make there own custom segments and specify it as a list."
   ]
  },
  {
   "cell_type": "code",
   "execution_count": null,
   "metadata": {},
   "outputs": [],
   "source": [
    "# fixing default time values\n",
    "import pandas as pd # library to work with tabular data\n",
    "# pandas also provide nice datetime manipulation functions\n",
    "dt = pd.to_datetime(data_to_plot.time.data)\n",
    "nice_time = dt.strftime('%d-%m-%Y %H:%M')\n",
    "nice_time"
   ]
  },
  {
   "cell_type": "code",
   "execution_count": null,
   "metadata": {},
   "outputs": [],
   "source": [
    "data_to_plot.time.data"
   ]
  },
  {
   "cell_type": "code",
   "execution_count": null,
   "metadata": {
    "ExecuteTime": {
     "end_time": "2019-06-21T13:58:04.275398Z",
     "start_time": "2019-06-21T13:58:03.611942Z"
    }
   },
   "outputs": [],
   "source": [
    "fig = plt.figure(figsize=(9, 5))\n",
    "ax = plt.axes(projection=ccrs.PlateCarree())\n",
    "\n",
    "# setting geographical boundaries of our map using the data provided\n",
    "ax.set_extent([5, 32, 34, 50])\n",
    "## Note: so far xarray was setting geographical boundaries on its own but we can also specify the boundaries manually\n",
    "\n",
    "data_to_plot.plot.contourf(ax=ax, transform=ccrs.PlateCarree(), cmap='YlOrRd', levels=12) # added levels argument; 12 will then be the number of colors in the colorbar\n",
    "\n",
    "ax.add_feature(cfeature.COASTLINE, linestyle='-')\n",
    "ax.add_feature(cfeature.BORDERS, linestyle='-', linewidth=.5)\n",
    "\n",
    "# Adding ocean so that we only emphasize on Land\n",
    "ax.add_feature(cfeature.OCEAN, zorder=10) \n",
    "\n",
    "ax.set_title('')\n",
    "ax.set_title('Near Surface Temperature', loc='left', fontsize=12);\n",
    "ax.set_title('Time:{}'.format(nice_time), loc='right', fontsize=12, color='grey');\n"
   ]
  },
  {
   "cell_type": "markdown",
   "metadata": {},
   "source": [
    "### making custom levels"
   ]
  },
  {
   "cell_type": "markdown",
   "metadata": {},
   "source": [
    "As mentioned above, we can also define custom levels for our colorbar"
   ]
  },
  {
   "cell_type": "code",
   "execution_count": null,
   "metadata": {
    "ExecuteTime": {
     "end_time": "2019-06-21T13:58:04.285449Z",
     "start_time": "2019-06-21T13:58:04.279798Z"
    }
   },
   "outputs": [],
   "source": [
    "# Irregular levels to illustrate the use of a proportional colorbar spacing\n",
    "levels1 = [270, 280, 285, 290, 293, 296, 298, 300, 302, 304]\n",
    "ticks = [270, 280, 285, 290, 296, 300, 304]"
   ]
  },
  {
   "cell_type": "code",
   "execution_count": null,
   "metadata": {
    "ExecuteTime": {
     "end_time": "2019-06-21T13:58:05.050961Z",
     "start_time": "2019-06-21T13:58:04.288628Z"
    }
   },
   "outputs": [],
   "source": [
    "fig = plt.figure(figsize=(8,6))\n",
    "ax = plt.axes(projection=ccrs.PlateCarree())\n",
    "\n",
    "ax.set_extent([5, 32, 34, 50])\n",
    "ax.add_feature(cfeature.COASTLINE, linestyle=':', zorder=20)\n",
    "ax.add_feature(cfeature.BORDERS, linestyle=':', zorder=25)\n",
    "ax.add_feature(cfeature.OCEAN, zorder=10)\n",
    "\n",
    "gl = ax.gridlines(crs=ccrs.PlateCarree(), draw_labels=True,\n",
    "                  linewidth=2, color='gray', alpha=0.4, linestyle='--')\n",
    "gl.top_labels = False # suppress gridline labels on the top\n",
    "gl.right_labels = False # suppress gridline labels at the right edge\n",
    "\n",
    "data_to_plot.plot.contourf(ax=ax, transform=ccrs.PlateCarree(), cmap='YlOrRd', \n",
    "                           levels=levels1, \n",
    "                           # using cbar_kwargs one can control properties of color bar\n",
    "                           cbar_kwargs={'ticks':ticks,'spacing': 'proportional',\n",
    "                                        'orientation': 'horizontal',\n",
    "                                       # 'shrink':0.8\n",
    "                                       }\n",
    "                           # add shrink and see the difference\n",
    "                             )\n",
    "\n",
    "ax.set_title('')\n",
    "ax.set_title('Near Surface Temperature', loc='left', fontsize=12);\n",
    "ax.set_title('Time:{}'.format(nice_time), loc='right', fontsize=12, color='grey');"
   ]
  },
  {
   "cell_type": "markdown",
   "metadata": {},
   "source": [
    "## Plotting Contours"
   ]
  },
  {
   "cell_type": "markdown",
   "metadata": {},
   "source": [
    "Contours are lines representing points with a common numerical value."
   ]
  },
  {
   "cell_type": "code",
   "execution_count": null,
   "metadata": {},
   "outputs": [],
   "source": [
    "fig = plt.figure(figsize=(10,8))\n",
    "ax = plt.axes(projection=ccrs.PlateCarree())\n",
    "\n",
    "\n",
    "gl = ax.gridlines(crs=ccrs.PlateCarree(), draw_labels=True,\n",
    "                  linewidth=2, color='gray', alpha=0.4, linestyle='--')\n",
    "gl.top_labels = False # suppress gridline labels on the top\n",
    "gl.right_labels = False # suppress gridline labels at the right edge\n",
    "\n",
    "\n",
    "# contour FILL\n",
    "data_to_plot.plot.contourf(ax=ax, transform=ccrs.PlateCarree(), cmap='YlOrRd', \n",
    "                           levels=levels1, \n",
    "                           # using cbar_kwargs one can control properties of color bar\n",
    "                           cbar_kwargs={'ticks':ticks,'spacing': 'proportional',\n",
    "                                        'orientation': 'horizontal',\n",
    "                                       # 'shrink':0.8\n",
    "                                       }\n",
    "                           # add shrink and see the difference\n",
    "                             )\n",
    "\n",
    "# contour \"empty\"\n",
    "cs = data_to_plot.plot.contour(ax=ax, transform=ccrs.PlateCarree(), \n",
    "                           levels=levels1, colors='k', linestyles='dashed',\n",
    "                          linewidths=1.2, alpha=.9,\n",
    "                          )\n",
    "plt.clabel(cs, fmt='%d',fontsize=10) # add label for each contour level (comment out the contour fill lines above to see full effect)\n",
    "\n",
    "ax.set_extent([-10, 40, 34, 50]) # notice different values compared to previous plots\n",
    "ax.add_feature(cfeature.COASTLINE, linestyle='-')\n",
    "ax.add_feature(cfeature.BORDERS, linestyle=':', linewidths=.5)\n",
    "ax.add_feature(cfeature.OCEAN, zorder=10)\n"
   ]
  },
  {
   "cell_type": "markdown",
   "metadata": {},
   "source": [
    "`Homework:` Find out different `linestyles` options.\n",
    "\n",
    "**Summary so far:** \n",
    "* For non geographical plotting we use `matplotlib` library which produces high quality scientific plots.\n",
    "* `seaborn` is also a good data visualisation library (it builds on `matplotlib`) for drawing more attractive plots.\n",
    "* For geographic plotting we add `cartopy` to our `matplotlib` plots to take care of geographical axis and map projections.\n",
    "* For quick geographical plotting, use high-level plotting features of `xarray`. \n",
    "* For absolute control of your geographical plots use `cartopy` directly."
   ]
  },
  {
   "cell_type": "markdown",
   "metadata": {
    "tags": []
   },
   "source": [
    "# Making Subplots\n"
   ]
  },
  {
   "cell_type": "code",
   "execution_count": null,
   "metadata": {},
   "outputs": [],
   "source": [
    "fig, [ax1, ax2] = plt.subplots(nrows=1, ncols=2, figsize=(10,5)) # see what is different here?\n",
    "x = np.linspace(0, 10, 1000) # again function to return sample of (1000) evenly spaced numbers between 1 and 10\n",
    "y1 = np.sin(x) # our sine function\n",
    "y2 = np.cos(x)\n",
    "ax1.plot(x, y1)\n",
    "ax2.plot(x, y2)"
   ]
  },
  {
   "cell_type": "markdown",
   "metadata": {
    "tags": []
   },
   "source": [
    "## Geographic subplots"
   ]
  },
  {
   "cell_type": "markdown",
   "metadata": {},
   "source": [
    "Let's use the historical portion of the dataset we defined earlier."
   ]
  },
  {
   "cell_type": "code",
   "execution_count": null,
   "metadata": {},
   "outputs": [],
   "source": [
    "# select specific timesteps of the first member:\n",
    "data_list = [hist_ds1.TREFHT.sel(member_id='r1i1001p1f1',time='1990-07-29'),\n",
    "             hist_ds1.TREFHT.sel(member_id='r1i1001p1f1',time='1991-07-29'),\n",
    "             hist_ds1.TREFHT.sel(member_id='r1i1001p1f1',time='1992-07-29'),\n",
    "             hist_ds1.TREFHT.sel(member_id='r1i1001p1f1',time='1993-07-29')]"
   ]
  },
  {
   "cell_type": "markdown",
   "metadata": {},
   "source": [
    "Here we have chosen 4 summer dates from different years in the historical period of the first member with ID 'r1i1001p1f1'\n",
    "and created a list containing the two-dimensional fields."
   ]
  },
  {
   "cell_type": "code",
   "execution_count": null,
   "metadata": {},
   "outputs": [],
   "source": [
    "len(data_list)"
   ]
  },
  {
   "cell_type": "code",
   "execution_count": null,
   "metadata": {},
   "outputs": [],
   "source": [
    "# what does one of the selections look like, glance at the coordinates\n",
    "data_list[0]"
   ]
  },
  {
   "cell_type": "markdown",
   "metadata": {},
   "source": [
    "Lets plot anomalies with respect to mean temperature data!"
   ]
  },
  {
   "cell_type": "code",
   "execution_count": null,
   "metadata": {},
   "outputs": [],
   "source": [
    "import datetime as dt\n",
    "# we have select summer days, so let's calculate the summer mean (June, July, August) of the historical period for the first member\n",
    "\n",
    "hist_temp_JJA = hist_ds1.TREFHT.sel(time=hist_ds1.time.dt.month.isin([6,7,8])) # use datetime to select all months 6,7,8 (JJA)\n",
    "mean_temp = hist_temp_JJA.mean(dim='time')[0] # mean of summer data with respect to time (NB: we have selected only the first member!)"
   ]
  },
  {
   "cell_type": "code",
   "execution_count": null,
   "metadata": {},
   "outputs": [],
   "source": [
    "mean_temp"
   ]
  },
  {
   "cell_type": "code",
   "execution_count": null,
   "metadata": {},
   "outputs": [],
   "source": [
    "data_list[0]"
   ]
  },
  {
   "cell_type": "code",
   "execution_count": null,
   "metadata": {
    "ExecuteTime": {
     "end_time": "2019-06-21T13:59:13.846927Z",
     "start_time": "2019-06-21T13:59:10.375466Z"
    },
    "tags": []
   },
   "outputs": [],
   "source": [
    "projection=ccrs.PlateCarree()\n",
    "fig, axes = plt.subplots(nrows=2,ncols=2, figsize=(14,9),  dpi=100, \n",
    "                                         subplot_kw=dict(projection=ccrs.PlateCarree())\n",
    "                                        )\n",
    "\n",
    "# loop over figure axis and data items inside the data list\n",
    "# zip attaches the two lists together\n",
    "for ax, data in zip(axes.flat, data_list):\n",
    "    p = (data - mean_temp).plot.contourf(ax=ax, cmap='RdBu_r', levels=np.arange(-6.5,7),\n",
    "                                                 extend='both', add_colorbar=False)\n",
    "# Note: vmin, vmax is very important so that colorbar is consistent for all subplots\n",
    "# Or you can give custom levels\n",
    "    gl = ax.gridlines(crs=ccrs.PlateCarree(), draw_labels=True,\n",
    "                  linewidth=1, color='dimgray', alpha=0.4, linestyle='-')\n",
    "    gl.top_labels= False # suppress gridline labels on the top\n",
    "    gl.right_labels = False # suppress gridline labels at the right edge\n",
    "    ax.set_extent([5, 32, 34, 50], crs=ccrs.PlateCarree())\n",
    "    ax.coastlines(linestyles='-', linewidth=1)\n",
    "    ax.add_feature(cfeature.BORDERS, linewidth=.6)\n",
    "    ax.set_title('') # to suppress xarray's default subtitle\n",
    "    ax.set_title('My subplot', loc='left')\n",
    "    # what happens if I comment out the previous two lines? (to do this, select both lines and press 'Ctrl + /')\n",
    "\n",
    "# if you don't like the default spacing between subplots you can control the finer settings with plt.subplots_adjust()\n",
    "# plt.subplots_adjust(wspace = 0.3,  # the amount of width reserved for space between subplots,\n",
    "                   # right = 0.8,   # the right side of the subplots of the figure\n",
    "              # expressed as a fraction of the average axis width\n",
    "#                    hspace = 0.0  # the amount of height reserved for space between subplots,\n",
    "              # expressed as a fraction of the average axis height\n",
    "#                   )   \n",
    "plt.colorbar(p, ax=axes, shrink=0.8, extend='both', label=\"temperature anomalies (K)\", \n",
    "            orientation='vertical');\n",
    "\n",
    "plt.suptitle('My plot', fontsize=14, x=.45) # with x=... I can manually adjust the position of the title along the 'x axis' of the plot axis\n",
    "# uncomment to save \n",
    "# change file extension to \".pdf\" or \".png\" as per need\n",
    "#plt.savefig('/my_dir/save_my_plot.jpg', dpi=300, bbox_inches='tight', pad_inches=0.05)"
   ]
  },
  {
   "cell_type": "markdown",
   "metadata": {},
   "source": [
    "_Note_ : Adding a common colorbar with [this method is more precise](https://stackoverflow.com/a/13784887/7763326) in the sense that one creates a specific colorbar axes with height, width and location info to place the colorbar but the above solution we used is more general . In any case, I had to play with figure `size` and cbar `shrink` to get it right."
   ]
  },
  {
   "cell_type": "code",
   "execution_count": null,
   "metadata": {},
   "outputs": [],
   "source": [
    "axes.flatten() # returns a copy of the arrays collapsed into one dimension"
   ]
  },
  {
   "cell_type": "code",
   "execution_count": null,
   "metadata": {},
   "outputs": [],
   "source": [
    "# out of interest: how big is this file? how much memory is it taking up?\n",
    "\n",
    "ds1.nbytes/(1024**2) # size of dataset in megabytes"
   ]
  },
  {
   "cell_type": "markdown",
   "metadata": {},
   "source": [
    "# Multi-member plots\n"
   ]
  },
  {
   "cell_type": "markdown",
   "metadata": {},
   "source": [
    "Repetition:\n",
    "\n",
    "When dealing with **ensemble model data**, you're working with predictions or outputs generated by the same model that creates multiple individual realisations, referred to as **members**.\n",
    "\n",
    "Each member contributes its own prediction based on the same or slightly varied data, and these predictions are combined to improve the overall accuracy and robustness of the model.\n",
    "\n",
    "So far we have worked with individual members, but what if I want to get an impression of the spread of values, i.e. the variability, of the whole model?"
   ]
  },
  {
   "cell_type": "code",
   "execution_count": null,
   "metadata": {},
   "outputs": [],
   "source": [
    "# let's use the daily summer temperature data that we created earlier 'hist_temp_JJA'\n",
    "# I am interested in seeing the spread of mean summer temperature is in Switzerland across the 30-year period\n",
    "\n",
    "\n",
    "JJA_mean_CH = (\n",
    "    hist_temp_JJA\n",
    "    .sel(lon=slice(5, 11), lat=slice(45, 48))\n",
    "    .resample(time='1YE')\n",
    "    .mean(dim=['time', 'lon', 'lat'])\n",
    ")\n",
    "\n",
    "# a lot of things going on above! all in \"one go\"\n",
    "# first I select the area approximately corresponding to Switzerland\n",
    "# I compute an average in time and space on a yearly basis\n",
    "\n",
    "# the expected outcome is 1 value per year, per member\n",
    "# let's check below!"
   ]
  },
  {
   "cell_type": "code",
   "execution_count": null,
   "metadata": {},
   "outputs": [],
   "source": [
    "JJA_mean_CH"
   ]
  },
  {
   "cell_type": "markdown",
   "metadata": {},
   "source": [
    "Time to visualise the spread of values across the ensemble members."
   ]
  },
  {
   "cell_type": "code",
   "execution_count": null,
   "metadata": {},
   "outputs": [],
   "source": [
    "# first, the simple way\n",
    "data_to_plot = pd.DataFrame(JJA_mean_CH.values,\n",
    "                            index=JJA_mean_CH.member_id,\n",
    "                            columns=JJA_mean_CH.time.dt.year).T\n",
    "\n",
    "data_to_plot.plot()"
   ]
  },
  {
   "cell_type": "markdown",
   "metadata": {},
   "source": [
    "The spaghetti plot is helpful for a quick visualisation, but how could we clean this up a bit?\n",
    "\n",
    "How can we make this \"*publication* good\"?"
   ]
  },
  {
   "cell_type": "code",
   "execution_count": null,
   "metadata": {},
   "outputs": [],
   "source": [
    "# Set the style\n",
    "sns.set(style='whitegrid', font_scale=1.25)\n",
    "\n",
    "# Create the figure and add the title\n",
    "fig = plt.figure(figsize=(8,5))\n",
    "ax = plt.axes()\n",
    "ax.set_title('Annual summer temperature in Switzerland 1970-1999 (Data: CESM2-LENS)', fontsize=14, y=1.1)\n",
    "\n",
    "# Plot the data\n",
    "for column in data_to_plot.columns:\n",
    "    ax.plot(data_to_plot[column], label=column, linewidth=1.2)\n",
    "ax.plot(data_to_plot.mean(axis=1), c='k',linewidth=3) # add ensemble mean\n",
    "\n",
    "# Optional tweaks\n",
    "plt.ylim(286,293)\n",
    "plt.legend(loc='upper left', bbox_to_anchor=(1.05, 1), fontsize=11, ncol=1)\n",
    "\n",
    "plt.show()"
   ]
  },
  {
   "cell_type": "markdown",
   "metadata": {},
   "source": [
    "If you read research papers either on ensemble models or multi-model climate projections you will likely encounter plots like the one above.\n",
    "\n",
    "Also called 'spaghetti plots' because of all the curves creating a bit of a mess.\n",
    "The more curves there are, the harder it becomes to identify any differences, and it becomes more about understanding patterns."
   ]
  },
  {
   "cell_type": "code",
   "execution_count": null,
   "metadata": {},
   "outputs": [],
   "source": [
    "fig = plt.figure(figsize=(8,5))\n",
    "ax = plt.axes()\n",
    "ax.set_title('Annual summer temperature in Switzerland 1970-1999 (Data: CESM2-LENS)', fontsize=14, y=1.1)\n",
    "\n",
    "ax.plot(data_to_plot.mean(axis=1), c='k',linewidth=3, label='Mean') # add ensemble mean\n",
    "ax.plot(data_to_plot.quantile(.25, axis=1), c='gray',linewidth=2) # add the 0.25 quantile curve\n",
    "ax.plot(data_to_plot.quantile(.75, axis=1), c='gray',linewidth=2) # add the 0.75 quantile curve\n",
    "ax.plot(data_to_plot.min(axis=1), c='lightgray',linewidth=2) # add the minimum curve\n",
    "ax.plot(data_to_plot.max(axis=1), c='lightgray',linewidth=2) # add the maximum curve\n",
    "\n",
    "# Fill between quantiles (0.25 to 0.75) with a transparent color\n",
    "ax.fill_between(data_to_plot.index, \n",
    "                data_to_plot.quantile(.25, axis=1), \n",
    "                data_to_plot.quantile(.75, axis=1), \n",
    "                color='lightgray', alpha=0.5, label='Interquartile Range (25%-75%)')\n",
    "\n",
    "# Fill between min and max values with a transparent color\n",
    "ax.fill_between(data_to_plot.index, \n",
    "                data_to_plot.min(axis=1), \n",
    "                data_to_plot.max(axis=1), \n",
    "                color='lightgray', alpha=0.2, label='Min-Max Range')\n",
    "\n",
    "plt.ylim(286,293)\n",
    "plt.legend(fontsize=11)"
   ]
  },
  {
   "cell_type": "markdown",
   "metadata": {},
   "source": [
    "Figures like this one are a bit cleaner, perhaps more suitable in our case.\n",
    "\n",
    "The more members you have, the smoother the curves.\n",
    "\n",
    "It all depends on what exactly you want to depict or highlight."
   ]
  },
  {
   "cell_type": "markdown",
   "metadata": {},
   "source": [
    "##### save latest figure"
   ]
  },
  {
   "cell_type": "code",
   "execution_count": null,
   "metadata": {},
   "outputs": [],
   "source": [
    "fig.savefig('path/to/your/folder/figurename.jpg', dpi=250, bbox_inches='tight')"
   ]
  },
  {
   "cell_type": "markdown",
   "metadata": {},
   "source": [
    "##### make copy of dataset"
   ]
  },
  {
   "cell_type": "code",
   "execution_count": null,
   "metadata": {},
   "outputs": [],
   "source": [
    "my_data2 = JJA_mean_CH.copy()"
   ]
  },
  {
   "cell_type": "code",
   "execution_count": null,
   "metadata": {
    "scrolled": true
   },
   "outputs": [],
   "source": [
    "my_data2"
   ]
  },
  {
   "cell_type": "code",
   "execution_count": null,
   "metadata": {},
   "outputs": [],
   "source": [
    "del my_data2, hist_ds1, hist_temp_JJA, hist_temp_JJA_avg"
   ]
  },
  {
   "cell_type": "markdown",
   "metadata": {
    "tags": []
   },
   "source": [
    "# Closing and deleting dataset"
   ]
  },
  {
   "cell_type": "code",
   "execution_count": null,
   "metadata": {},
   "outputs": [],
   "source": [
    "ds1.close()\n",
    "del ds1"
   ]
  },
  {
   "cell_type": "markdown",
   "metadata": {},
   "source": [
    "It will only delete ds1 variable, it won't delete the original data stroed on disk. Note: Xarray never modifies original data on the disk in all the operations we looked above. "
   ]
  },
  {
   "cell_type": "markdown",
   "metadata": {
    "tags": []
   },
   "source": [
    "# References & Further Reading\n",
    "[Xarray Documentation](http://xarray.pydata.org/)\n",
    "\n",
    "[Python Data Science Handbook - Visualization](https://www.oreilly.com/library/view/python-data-science/9781491912126/ch04.html)"
   ]
  },
  {
   "cell_type": "markdown",
   "metadata": {
    "tags": []
   },
   "source": [
    "# Exercise"
   ]
  },
  {
   "cell_type": "markdown",
   "metadata": {},
   "source": [
    "This exercise is based on all the knowledge you have gained from this lecture.\n",
    "\n",
    "So make sure you have gone through the whole script first, cell by cell, to make sure you understand what the lines of code mean!"
   ]
  },
  {
   "cell_type": "markdown",
   "metadata": {},
   "source": [
    "**1) MAIN EXERCISE**\n",
    "\n",
    "Plot Scandinavian absolute temperatures in a figure made up of 9 subplots (3x3).\n",
    "\n",
    "The exercise includes the following steps:\n",
    "    \n",
    "\n",
    "    1. Make a plot made up of 6 subplots (3 columns x 2 rows) choosing 6 days of your choice from the data array ds1.TREFHT\n",
    "    \n",
    "    (Hint: play around with different values in figsize=(x,y) to avoid ugly overlaps,\n",
    "     e.g. if the subplot has more columns than rows, you might want x to be larger than y)\n",
    "\n",
    "    2. Convert units from Kelvin to degrees Celsius\n",
    "    \n",
    "    3. Crop plots so they only show the Scandinavian region\n",
    "    \n",
    "    4. Each subplot should have gridlines of latitude and longitude\n",
    "    \n",
    "    5. Draw country coastlines and borders\n",
    "    \n",
    "    6. Each subplot should have its own title corresponding to the day in question\n",
    "    \n",
    "    7. The shared colorbar of these subplots should be at discrete levels of your choice\n",
    "    \n",
    "\n",
    "Go back through the script notes, they should all have been covered at some stage.\n",
    "\n",
    "Don't worry if you don't manage to complete all points.\n",
    "\n",
    "Feel free to 'play around' with your plot. Make 'tweaks', personalise it to your taste and aesthetic preference."
   ]
  },
  {
   "cell_type": "markdown",
   "metadata": {},
   "source": [
    "**2) ADVANCED EXERCISE**\n",
    "\n",
    "If you feel up for it, we have another challenge for you!\n",
    "\n",
    "Plot boxplots of the mean winter temperatures of the Iberian Peninsula for both the historical and future periods.\n",
    "\n",
    "- Each boxplot is made up of the values of all gricells in the region for the 10 ensemble members for both periods.\n",
    "\n",
    "- What is the mean change in temperature?\n",
    "\n",
    "- Can you plot the same, but as histograms? (see link in Section Boxplots of this script)\n"
   ]
  }
 ],
 "metadata": {
  "kernelspec": {
   "display_name": "cra_env",
   "language": "python",
   "name": "python3"
  },
  "language_info": {
   "codemirror_mode": {
    "name": "ipython",
    "version": 3
   },
   "file_extension": ".py",
   "mimetype": "text/x-python",
   "name": "python",
   "nbconvert_exporter": "python",
   "pygments_lexer": "ipython3",
   "version": "3.12.9"
  },
  "toc": {
   "base_numbering": 1,
   "nav_menu": {},
   "number_sections": true,
   "sideBar": true,
   "skip_h1_title": false,
   "title_cell": "Table of Contents",
   "title_sidebar": "Contents",
   "toc_cell": true,
   "toc_position": {
    "height": "calc(100% - 180px)",
    "left": "10px",
    "top": "150px",
    "width": "165px"
   },
   "toc_section_display": true,
   "toc_window_display": true
  }
 },
 "nbformat": 4,
 "nbformat_minor": 4
}
